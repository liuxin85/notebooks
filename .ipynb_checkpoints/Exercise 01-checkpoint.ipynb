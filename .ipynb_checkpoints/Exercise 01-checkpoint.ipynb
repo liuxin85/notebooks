{
 "cells": [
  {
   "cell_type": "code",
   "execution_count": 23,
   "id": "caf2439a-b6ad-499a-bd09-84ebd9241f47",
   "metadata": {},
   "outputs": [],
   "source": [
    "import numpy as np\n",
    "from sklearn.linear_model import LinearRegression\n",
    "\n",
    "import torch\n",
    "import torch.optim as optim\n",
    "import torch.nn as nn\n",
    "from torchviz import make_dot"
   ]
  },
  {
   "cell_type": "code",
   "execution_count": 24,
   "id": "ebf447d1-caeb-4e8a-836b-0bb250c8a652",
   "metadata": {},
   "outputs": [],
   "source": [
    "true_b = 1\n",
    "true_w = 2\n",
    "N = 100\n",
    "\n",
    "# Data Generation\n",
    "np.random.seed(42)\n",
    "x = np.random.rand(N, 1)\n",
    "epsilon = (.1 * np.random.randn(N,1))\n",
    "y = true_b + true_w * x + epsilon"
   ]
  },
  {
   "cell_type": "code",
   "execution_count": 28,
   "id": "2a3c9e46-cca7-42d0-bf05-a4c07aaef419",
   "metadata": {},
   "outputs": [],
   "source": [
    "# Shuffles the indices\n",
    "idx = np.arange(N)\n",
    "np.random.shuffle(idx)\n",
    "\n",
    "# Uses first 80 random indices for tain\n",
    "train_idx = idx[:int(N*.8)]\n",
    "# Uses the remaining indices for validation\n",
    "val_idx = idx[int(N*.8):]\n",
    "\n",
    "# Generates train and validation sets\n",
    "x_train, y_train = x[train_idx], y[train_idx]\n",
    "x_val, y_val = x[val_idx], y[val_idx]"
   ]
  },
  {
   "cell_type": "code",
   "execution_count": 24,
   "id": "3d9b10d5-bebc-441e-a595-34f8586e90e4",
   "metadata": {},
   "outputs": [],
   "source": []
  },
  {
   "cell_type": "code",
   "execution_count": 5,
   "id": "c8f2db8a-5d74-4bd4-ab40-561e37f76b9b",
   "metadata": {},
   "outputs": [
    {
     "data": {
      "text/plain": [
       "tensor([1, 0, 3])"
      ]
     },
     "execution_count": 5,
     "metadata": {},
     "output_type": "execute_result"
    }
   ],
   "source": [
    "# Modifies the numpy array\n",
    "dummy_array[1] = 0\n",
    "\n",
    "# Tensor gets modified too ...\n",
    "dummy_tensor"
   ]
  },
  {
   "cell_type": "code",
   "execution_count": 6,
   "id": "981d3bff-ae35-4d9f-a524-8eeda6f0b8a0",
   "metadata": {},
   "outputs": [
    {
     "data": {
      "text/plain": [
       "array([1, 0, 3])"
      ]
     },
     "execution_count": 6,
     "metadata": {},
     "output_type": "execute_result"
    }
   ],
   "source": [
    "dummy_tensor.numpy()"
   ]
  },
  {
   "cell_type": "code",
   "execution_count": 31,
   "id": "90ffe3b4-7c21-432b-bb51-ad641ead18f6",
   "metadata": {},
   "outputs": [],
   "source": [
    "device = 'cuda' if torch.cuda.is_available() else 'cpu'\n",
    "\n",
    "# Our data was in Numpy arrays, but we need to transfrom them\n",
    "# into Pytorch tensors and then send them to the\n",
    "# chosen device\n",
    "x_train_tensor = torch.as_tensor(x_train).float().to(device)\n",
    "y_train_tensor = torch.as_tensor(y_train).float().to(device)"
   ]
  },
  {
   "cell_type": "code",
   "execution_count": 8,
   "id": "ba2d5966-4465-4b19-ab4f-af896ddfe6d7",
   "metadata": {},
   "outputs": [],
   "source": [
    "n_cudas = torch.cuda.device_count()\n",
    "for i in range(n_cudas):\n",
    "    print(torch.cuda.get_device_name(i))"
   ]
  },
  {
   "cell_type": "code",
   "execution_count": 29,
   "id": "6881114c-e568-4f23-904a-5351df800964",
   "metadata": {},
   "outputs": [
    {
     "data": {
      "text/plain": [
       "tensor([0.1395], dtype=torch.float64)"
      ]
     },
     "execution_count": 29,
     "metadata": {},
     "output_type": "execute_result"
    }
   ],
   "source": [
    "gpu_tensor = torch.as_tensor(x_train).to(device)\n",
    "gpu_tensor[0]"
   ]
  },
  {
   "cell_type": "markdown",
   "id": "ced61832-9329-44ef-a878-23be20b2414d",
   "metadata": {},
   "source": [
    "A tensor for a learnable parameter requires a gradient!"
   ]
  },
  {
   "cell_type": "code",
   "execution_count": 11,
   "id": "3af74a57-9a9f-4bf7-8d43-630c684264c4",
   "metadata": {},
   "outputs": [
    {
     "name": "stdout",
     "output_type": "stream",
     "text": [
      "tensor([0.3367], requires_grad=True) tensor([0.1288], requires_grad=True)\n"
     ]
    }
   ],
   "source": [
    "# First\n",
    "# Initialize perameters \"b\" and \"w\" randomly\n",
    "torch.manual_seed(42)\n",
    "b = torch.randn(1,requires_grad=True, dtype=torch.float )\n",
    "w = torch.randn(1, requires_grad=True, dtype=torch.float)\n",
    "print(b,w)"
   ]
  },
  {
   "cell_type": "code",
   "execution_count": 22,
   "id": "463fd9da-4dbf-46d4-814d-f119a50b5e74",
   "metadata": {},
   "outputs": [
    {
     "name": "stdout",
     "output_type": "stream",
     "text": [
      "tensor([0.3367], requires_grad=True) tensor([0.1288], requires_grad=True)\n"
     ]
    }
   ],
   "source": [
    "# FINAL\n",
    "device = 'cuda' if torch.cuda.is_available() else 'cpu'\n",
    "torch.manual_seed(42)\n",
    "b = torch.randn(1, requires_grad=True, dtype=torch.float, device=device)\n",
    "w = torch.randn(1, requires_grad=True, dtype=torch.float, device=device)\n",
    "print(b,w)"
   ]
  },
  {
   "cell_type": "code",
   "execution_count": 37,
   "id": "86f280c8-3662-4254-9b93-c969b886eb66",
   "metadata": {},
   "outputs": [],
   "source": [
    "# Step 1 - Computes our model's predicted output - forward pass\n",
    "yhat = b + w * x_train_tensor\n",
    "\n",
    "# Step 2 - Computes the loss\n",
    "error = (yhat - y_train_tensor)\n",
    "# It's a regression, so it computes mean squire error (MSE)\n",
    "loss = (error ** 2).mean()\n",
    "\n",
    "# step 3 - Computes gradients for both \"b\" and \"w\" parameters\n",
    "loss.backward()"
   ]
  },
  {
   "cell_type": "code",
   "execution_count": 35,
   "id": "d48ec885-d853-462e-b8e0-6f6d7b14115e",
   "metadata": {},
   "outputs": [
    {
     "name": "stdout",
     "output_type": "stream",
     "text": [
      "True True True True\n",
      "False False\n"
     ]
    }
   ],
   "source": [
    "print(error.requires_grad, yhat.requires_grad, b.requires_grad, w.requires_grad)\n",
    "print(y_train_tensor.requires_grad, x_train_tensor.requires_grad)"
   ]
  },
  {
   "cell_type": "code",
   "execution_count": 38,
   "id": "2bb0b77b-1db2-425e-b638-1695f149c598",
   "metadata": {},
   "outputs": [
    {
     "name": "stdout",
     "output_type": "stream",
     "text": [
      "tensor([-6.0836]) tensor([-3.4772])\n"
     ]
    }
   ],
   "source": [
    "print(b.grad, w.grad)"
   ]
  },
  {
   "cell_type": "code",
   "execution_count": 39,
   "id": "97752f47-9321-42ea-acdb-166d55b2e52c",
   "metadata": {},
   "outputs": [
    {
     "data": {
      "text/plain": [
       "(tensor([0.]), tensor([0.]))"
      ]
     },
     "execution_count": 39,
     "metadata": {},
     "output_type": "execute_result"
    }
   ],
   "source": [
    "b.grad.zero_(), w.grad.zero_()"
   ]
  },
  {
   "cell_type": "code",
   "execution_count": 45,
   "id": "3edd2764-e915-4078-9454-145679878283",
   "metadata": {},
   "outputs": [
    {
     "name": "stdout",
     "output_type": "stream",
     "text": [
      "tensor([1.0205], requires_grad=True) tensor([1.9468], requires_grad=True)\n"
     ]
    }
   ],
   "source": [
    "lr = 0.1\n",
    "\n",
    "torch.manual_seed(42)\n",
    "b = torch.randn(1,requires_grad=True, dtype=torch.float, device=device)\n",
    "w = torch.randn(1, requires_grad=True, dtype=torch.float, device=device)\n",
    "\n",
    "# Defines a SGD optimier to update the parameter\n",
    "optimizer = optim.SGD([b, w], lr=lr)\n",
    "# Defines number of epochs\n",
    "n_epochs = 1000\n",
    "\n",
    "for epoch in range(n_epochs):\n",
    "    yhat = b + w * x_train_tensor\n",
    "    error = (yhat - y_train_tensor)\n",
    "    loss = (error ** 2).mean()\n",
    "    loss.backward()\n",
    "    with torch.no_grad():\n",
    "        b -= lr * b.grad\n",
    "        w -= lr * w.grad\n",
    "        b.grad.zero_()\n",
    "        w.grad.zero_()\n",
    "  \n",
    "print(b,w)\n"
   ]
  },
  {
   "cell_type": "code",
   "execution_count": 44,
   "id": "b5db70f6-b722-48fd-b7e4-ebdd18ff73b3",
   "metadata": {},
   "outputs": [
    {
     "data": {
      "image/svg+xml": [
       "<?xml version=\"1.0\" encoding=\"UTF-8\" standalone=\"no\"?>\n",
       "<!DOCTYPE svg PUBLIC \"-//W3C//DTD SVG 1.1//EN\"\n",
       " \"http://www.w3.org/Graphics/SVG/1.1/DTD/svg11.dtd\">\n",
       "<!-- Generated by graphviz version 10.0.1 (20240210.2158)\n",
       " -->\n",
       "<!-- Pages: 1 -->\n",
       "<svg width=\"220pt\" height=\"284pt\"\n",
       " viewBox=\"0.00 0.00 220.00 284.25\" xmlns=\"http://www.w3.org/2000/svg\" xmlns:xlink=\"http://www.w3.org/1999/xlink\">\n",
       "<g id=\"graph0\" class=\"graph\" transform=\"scale(1 1) rotate(0) translate(4 280.25)\">\n",
       "<polygon fill=\"white\" stroke=\"none\" points=\"-4,4 -4,-280.25 216,-280.25 216,4 -4,4\"/>\n",
       "<!-- 6080126256 -->\n",
       "<g id=\"node1\" class=\"node\">\n",
       "<title>6080126256</title>\n",
       "<polygon fill=\"#caff70\" stroke=\"black\" points=\"138,-31.25 74,-31.25 74,0 138,0 138,-31.25\"/>\n",
       "<text text-anchor=\"middle\" x=\"106\" y=\"-5.75\" font-family=\"monospace\" font-size=\"10.00\"> (80, 1)</text>\n",
       "</g>\n",
       "<!-- 6082625248 -->\n",
       "<g id=\"node2\" class=\"node\">\n",
       "<title>6082625248</title>\n",
       "<polygon fill=\"lightgrey\" stroke=\"black\" points=\"150,-86.5 62,-86.5 62,-67.25 150,-67.25 150,-86.5\"/>\n",
       "<text text-anchor=\"middle\" x=\"106\" y=\"-73\" font-family=\"monospace\" font-size=\"10.00\">AddBackward0</text>\n",
       "</g>\n",
       "<!-- 6082625248&#45;&gt;6080126256 -->\n",
       "<g id=\"edge6\" class=\"edge\">\n",
       "<title>6082625248&#45;&gt;6080126256</title>\n",
       "<path fill=\"none\" stroke=\"black\" d=\"M106,-66.88C106,-60.54 106,-51.7 106,-43.2\"/>\n",
       "<polygon fill=\"black\" stroke=\"black\" points=\"109.5,-43.22 106,-33.22 102.5,-43.22 109.5,-43.22\"/>\n",
       "</g>\n",
       "<!-- 6082625056 -->\n",
       "<g id=\"node3\" class=\"node\">\n",
       "<title>6082625056</title>\n",
       "<polygon fill=\"lightgrey\" stroke=\"black\" points=\"100,-141.75 0,-141.75 0,-122.5 100,-122.5 100,-141.75\"/>\n",
       "<text text-anchor=\"middle\" x=\"50\" y=\"-128.25\" font-family=\"monospace\" font-size=\"10.00\">AccumulateGrad</text>\n",
       "</g>\n",
       "<!-- 6082625056&#45;&gt;6082625248 -->\n",
       "<g id=\"edge1\" class=\"edge\">\n",
       "<title>6082625056&#45;&gt;6082625248</title>\n",
       "<path fill=\"none\" stroke=\"black\" d=\"M59.5,-122.09C67.43,-114.55 78.95,-103.6 88.54,-94.48\"/>\n",
       "<polygon fill=\"black\" stroke=\"black\" points=\"90.71,-97.24 95.54,-87.82 85.89,-92.17 90.71,-97.24\"/>\n",
       "</g>\n",
       "<!-- 6065317520 -->\n",
       "<g id=\"node4\" class=\"node\">\n",
       "<title>6065317520</title>\n",
       "<polygon fill=\"lightblue\" stroke=\"black\" points=\"77,-209 23,-209 23,-177.75 77,-177.75 77,-209\"/>\n",
       "<text text-anchor=\"middle\" x=\"50\" y=\"-183.5\" font-family=\"monospace\" font-size=\"10.00\"> (1)</text>\n",
       "</g>\n",
       "<!-- 6065317520&#45;&gt;6082625056 -->\n",
       "<g id=\"edge2\" class=\"edge\">\n",
       "<title>6065317520&#45;&gt;6082625056</title>\n",
       "<path fill=\"none\" stroke=\"black\" d=\"M50,-177.42C50,-170.22 50,-161.47 50,-153.66\"/>\n",
       "<polygon fill=\"black\" stroke=\"black\" points=\"53.5,-153.68 50,-143.68 46.5,-153.68 53.5,-153.68\"/>\n",
       "</g>\n",
       "<!-- 6082625008 -->\n",
       "<g id=\"node5\" class=\"node\">\n",
       "<title>6082625008</title>\n",
       "<polygon fill=\"lightgrey\" stroke=\"black\" points=\"206,-141.75 118,-141.75 118,-122.5 206,-122.5 206,-141.75\"/>\n",
       "<text text-anchor=\"middle\" x=\"162\" y=\"-128.25\" font-family=\"monospace\" font-size=\"10.00\">MulBackward0</text>\n",
       "</g>\n",
       "<!-- 6082625008&#45;&gt;6082625248 -->\n",
       "<g id=\"edge3\" class=\"edge\">\n",
       "<title>6082625008&#45;&gt;6082625248</title>\n",
       "<path fill=\"none\" stroke=\"black\" d=\"M152.5,-122.09C144.57,-114.55 133.05,-103.6 123.46,-94.48\"/>\n",
       "<polygon fill=\"black\" stroke=\"black\" points=\"126.11,-92.17 116.46,-87.82 121.29,-97.24 126.11,-92.17\"/>\n",
       "</g>\n",
       "<!-- 6082622320 -->\n",
       "<g id=\"node6\" class=\"node\">\n",
       "<title>6082622320</title>\n",
       "<polygon fill=\"lightgrey\" stroke=\"black\" points=\"212,-203 112,-203 112,-183.75 212,-183.75 212,-203\"/>\n",
       "<text text-anchor=\"middle\" x=\"162\" y=\"-189.5\" font-family=\"monospace\" font-size=\"10.00\">AccumulateGrad</text>\n",
       "</g>\n",
       "<!-- 6082622320&#45;&gt;6082625008 -->\n",
       "<g id=\"edge4\" class=\"edge\">\n",
       "<title>6082622320&#45;&gt;6082625008</title>\n",
       "<path fill=\"none\" stroke=\"black\" d=\"M162,-183.38C162,-175.46 162,-163.64 162,-153.45\"/>\n",
       "<polygon fill=\"black\" stroke=\"black\" points=\"165.5,-153.72 162,-143.72 158.5,-153.72 165.5,-153.72\"/>\n",
       "</g>\n",
       "<!-- 6086245456 -->\n",
       "<g id=\"node7\" class=\"node\">\n",
       "<title>6086245456</title>\n",
       "<polygon fill=\"lightblue\" stroke=\"black\" points=\"189,-276.25 135,-276.25 135,-245 189,-245 189,-276.25\"/>\n",
       "<text text-anchor=\"middle\" x=\"162\" y=\"-250.75\" font-family=\"monospace\" font-size=\"10.00\"> (1)</text>\n",
       "</g>\n",
       "<!-- 6086245456&#45;&gt;6082622320 -->\n",
       "<g id=\"edge5\" class=\"edge\">\n",
       "<title>6086245456&#45;&gt;6082622320</title>\n",
       "<path fill=\"none\" stroke=\"black\" d=\"M162,-244.82C162,-235.93 162,-224.5 162,-214.76\"/>\n",
       "<polygon fill=\"black\" stroke=\"black\" points=\"165.5,-214.81 162,-204.81 158.5,-214.81 165.5,-214.81\"/>\n",
       "</g>\n",
       "</g>\n",
       "</svg>\n"
      ],
      "text/plain": [
       "<graphviz.graphs.Digraph at 0x16a6489d0>"
      ]
     },
     "execution_count": 44,
     "metadata": {},
     "output_type": "execute_result"
    }
   ],
   "source": [
    "torch.manual_seed(42)\n",
    "b = torch.randn(1, requires_grad=True, dtype=torch.float, device=device)\n",
    "w = torch.randn(1, requires_grad=True, dtype=torch.float, device=device)\n",
    "\n",
    "yhat = b + w * x_train_tensor\n",
    "error = (yhat - y_train_tensor)\n",
    "loss = (error ** 2).mean()\n",
    "make_dot(yhat)"
   ]
  },
  {
   "cell_type": "code",
   "execution_count": 45,
   "id": "9b084587-c590-4bb6-a028-9a6e0af883e0",
   "metadata": {},
   "outputs": [
    {
     "name": "stdout",
     "output_type": "stream",
     "text": [
      "tensor([1.0205], requires_grad=True) tensor([1.9468], requires_grad=True)\n"
     ]
    }
   ],
   "source": [
    "lr = 0.1\n",
    "\n",
    "torch.manual_seed(42)\n",
    "b = torch.randn(1,requires_grad=True, dtype=torch.float, device=device)\n",
    "w = torch.randn(1, requires_grad=True, dtype=torch.float, device=device)\n",
    "\n",
    "# Defines a SGD optimier to update the parameter\n",
    "optimizer = optim.SGD([b, w], lr=lr)\n",
    "# Defines number of epochs\n",
    "n_epochs = 1000\n",
    "\n",
    "for epoch in range(n_epochs):\n",
    "    yhat = b + w * x_train_tensor\n",
    "    error = (yhat - y_train_tensor)\n",
    "    loss = (error ** 2).mean()\n",
    "    loss.backward()\n",
    "    # with torch.no_grad():\n",
    "    #     b -= lr * b.grad\n",
    "    #     w -= lr * w.grad\n",
    "    #     b.grad.zero_()\n",
    "    #     w.grad.zero_()\n",
    "    optimizer.step()\n",
    "    optimizer.zero_grad()\n",
    "print(b,w)\n"
   ]
  },
  {
   "cell_type": "code",
   "execution_count": null,
   "id": "c88ab942-785d-4ac5-9182-98cdb402e6ac",
   "metadata": {},
   "outputs": [],
   "source": []
  },
  {
   "cell_type": "code",
   "execution_count": null,
   "id": "ffd64e68-5e72-4dd6-bf84-a6539f2e6600",
   "metadata": {},
   "outputs": [],
   "source": []
  }
 ],
 "metadata": {
  "kernelspec": {
   "display_name": "Python 3 (ipykernel)",
   "language": "python",
   "name": "python3"
  },
  "language_info": {
   "codemirror_mode": {
    "name": "ipython",
    "version": 3
   },
   "file_extension": ".py",
   "mimetype": "text/x-python",
   "name": "python",
   "nbconvert_exporter": "python",
   "pygments_lexer": "ipython3",
   "version": "3.11.7"
  }
 },
 "nbformat": 4,
 "nbformat_minor": 5
}
