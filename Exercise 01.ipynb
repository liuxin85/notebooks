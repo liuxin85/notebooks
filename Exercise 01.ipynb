{
 "cells": [
  {
   "cell_type": "code",
   "execution_count": 1,
   "id": "caf2439a-b6ad-499a-bd09-84ebd9241f47",
   "metadata": {},
   "outputs": [],
   "source": [
    "import numpy as np\n",
    "from sklearn.linear_model import LinearRegression\n",
    "\n",
    "import torch\n",
    "import torch.optim as optim\n",
    "import torch.nn as nn\n",
    "from torchviz import make_dot"
   ]
  },
  {
   "cell_type": "code",
   "execution_count": 2,
   "id": "ebf447d1-caeb-4e8a-836b-0bb250c8a652",
   "metadata": {},
   "outputs": [],
   "source": [
    "true_b = 1\n",
    "true_w = 2\n",
    "N = 100\n",
    "\n",
    "# Data Generation\n",
    "np.random.seed(42)\n",
    "x = np.random.rand(N, 1)\n",
    "epsilon = (.1 * np.random.randn(N,1))\n",
    "y = true_b + true_w * x + epsilon"
   ]
  },
  {
   "cell_type": "code",
   "execution_count": 3,
   "id": "2a3c9e46-cca7-42d0-bf05-a4c07aaef419",
   "metadata": {},
   "outputs": [],
   "source": [
    "# Shuffles the indices\n",
    "idx = np.arange(N)\n",
    "np.random.shuffle(idx)\n",
    "\n",
    "# Uses first 80 random indices for tain\n",
    "train_idx = idx[:int(N*.8)]\n",
    "# Uses the remaining indices for validation\n",
    "val_idx = idx[int(N*.8):]\n",
    "\n",
    "# Generates train and validation sets\n",
    "x_train, y_train = x[train_idx], y[train_idx]\n",
    "x_val, y_val = x[val_idx], y[val_idx]"
   ]
  },
  {
   "cell_type": "code",
   "execution_count": null,
   "id": "e864133d-1dfd-454d-bc05-d0fcfa71a670",
   "metadata": {},
   "outputs": [],
   "source": []
  },
  {
   "cell_type": "code",
   "execution_count": 4,
   "id": "90ffe3b4-7c21-432b-bb51-ad641ead18f6",
   "metadata": {},
   "outputs": [],
   "source": [
    "device = 'cuda' if torch.cuda.is_available() else 'cpu'\n",
    "\n",
    "# Our data was in Numpy arrays, but we need to transfrom them\n",
    "# into Pytorch tensors and then send them to the\n",
    "# chosen device\n",
    "x_train_tensor = torch.as_tensor(x_train).float().to(device)\n",
    "y_train_tensor = torch.as_tensor(y_train).float().to(device)"
   ]
  },
  {
   "cell_type": "code",
   "execution_count": 5,
   "id": "1a8f7e07-d73f-445a-9eed-2004dfb5faef",
   "metadata": {},
   "outputs": [
    {
     "data": {
      "text/plain": [
       "'cuda'"
      ]
     },
     "execution_count": 5,
     "metadata": {},
     "output_type": "execute_result"
    }
   ],
   "source": [
    "device"
   ]
  },
  {
   "cell_type": "code",
   "execution_count": 6,
   "id": "ba2d5966-4465-4b19-ab4f-af896ddfe6d7",
   "metadata": {},
   "outputs": [
    {
     "name": "stdout",
     "output_type": "stream",
     "text": [
      "NVIDIA GeForce RTX 3060\n"
     ]
    }
   ],
   "source": [
    "n_cudas = torch.cuda.device_count()\n",
    "for i in range(n_cudas):\n",
    "    print(torch.cuda.get_device_name(i))"
   ]
  },
  {
   "cell_type": "code",
   "execution_count": 7,
   "id": "6881114c-e568-4f23-904a-5351df800964",
   "metadata": {},
   "outputs": [
    {
     "data": {
      "text/plain": [
       "tensor([0.7713], device='cuda:0', dtype=torch.float64)"
      ]
     },
     "execution_count": 7,
     "metadata": {},
     "output_type": "execute_result"
    }
   ],
   "source": [
    "gpu_tensor = torch.as_tensor(x_train).to(device)\n",
    "gpu_tensor[0]"
   ]
  },
  {
   "cell_type": "code",
   "execution_count": 8,
   "id": "3af74a57-9a9f-4bf7-8d43-630c684264c4",
   "metadata": {},
   "outputs": [
    {
     "name": "stdout",
     "output_type": "stream",
     "text": [
      "tensor([0.3367], requires_grad=True) tensor([0.1288], requires_grad=True)\n"
     ]
    }
   ],
   "source": [
    "# First\n",
    "# Initialize perameters \"b\" and \"w\" randomly\n",
    "torch.manual_seed(42)\n",
    "b = torch.randn(1,requires_grad=True, dtype=torch.float )\n",
    "w = torch.randn(1, requires_grad=True, dtype=torch.float)\n",
    "print(b,w)"
   ]
  },
  {
   "cell_type": "code",
   "execution_count": 9,
   "id": "463fd9da-4dbf-46d4-814d-f119a50b5e74",
   "metadata": {},
   "outputs": [
    {
     "name": "stdout",
     "output_type": "stream",
     "text": [
      "tensor([0.1940], device='cuda:0', requires_grad=True) tensor([0.1391], device='cuda:0', requires_grad=True)\n"
     ]
    }
   ],
   "source": [
    "# FINAL\n",
    "device = 'cuda' if torch.cuda.is_available() else 'cpu'\n",
    "torch.manual_seed(42)\n",
    "b = torch.randn(1, requires_grad=True, dtype=torch.float, device=device)\n",
    "w = torch.randn(1, requires_grad=True, dtype=torch.float, device=device)\n",
    "print(b,w)"
   ]
  },
  {
   "cell_type": "code",
   "execution_count": 10,
   "id": "86f280c8-3662-4254-9b93-c969b886eb66",
   "metadata": {},
   "outputs": [],
   "source": [
    "# Step 1 - Computes our model's predicted output - forward pass\n",
    "yhat = b + w * x_train_tensor\n",
    "\n",
    "# Step 2 - Computes the loss\n",
    "error = (yhat - y_train_tensor)\n",
    "# It's a regression, so it computes mean squire error (MSE)\n",
    "loss = (error ** 2).mean()\n",
    "\n",
    "# step 3 - Computes gradients for both \"b\" and \"w\" parameters\n",
    "loss.backward()"
   ]
  },
  {
   "cell_type": "code",
   "execution_count": 11,
   "id": "d48ec885-d853-462e-b8e0-6f6d7b14115e",
   "metadata": {},
   "outputs": [
    {
     "name": "stdout",
     "output_type": "stream",
     "text": [
      "True True True True\n",
      "False False\n"
     ]
    }
   ],
   "source": [
    "print(error.requires_grad, yhat.requires_grad, b.requires_grad, w.requires_grad)\n",
    "print(y_train_tensor.requires_grad, x_train_tensor.requires_grad)"
   ]
  },
  {
   "cell_type": "code",
   "execution_count": 12,
   "id": "2bb0b77b-1db2-425e-b638-1695f149c598",
   "metadata": {},
   "outputs": [
    {
     "name": "stdout",
     "output_type": "stream",
     "text": [
      "tensor([-3.3881], device='cuda:0') tensor([-1.9439], device='cuda:0')\n"
     ]
    }
   ],
   "source": [
    "print(b.grad, w.grad)"
   ]
  },
  {
   "cell_type": "code",
   "execution_count": 13,
   "id": "97752f47-9321-42ea-acdb-166d55b2e52c",
   "metadata": {},
   "outputs": [
    {
     "data": {
      "text/plain": [
       "(tensor([0.], device='cuda:0'), tensor([0.], device='cuda:0'))"
      ]
     },
     "execution_count": 13,
     "metadata": {},
     "output_type": "execute_result"
    }
   ],
   "source": [
    "b.grad.zero_(), w.grad.zero_()"
   ]
  },
  {
   "cell_type": "code",
   "execution_count": 14,
   "id": "3edd2764-e915-4078-9454-145679878283",
   "metadata": {},
   "outputs": [
    {
     "name": "stdout",
     "output_type": "stream",
     "text": [
      "tensor([1.0235], device='cuda:0', requires_grad=True) tensor([1.9690], device='cuda:0', requires_grad=True)\n"
     ]
    }
   ],
   "source": [
    "lr = 0.1\n",
    "\n",
    "torch.manual_seed(42)\n",
    "b = torch.randn(1,requires_grad=True, dtype=torch.float, device=device)\n",
    "w = torch.randn(1, requires_grad=True, dtype=torch.float, device=device)\n",
    "\n",
    "\n",
    "# Defines number of epochs\n",
    "n_epochs = 1000\n",
    "\n",
    "for epoch in range(n_epochs):\n",
    "    yhat = b + w * x_train_tensor\n",
    "    error = (yhat - y_train_tensor)\n",
    "    loss = (error ** 2).mean()\n",
    "    loss.backward()\n",
    "    with torch.no_grad():\n",
    "        b -= lr * b.grad\n",
    "        w -= lr * w.grad\n",
    "        b.grad.zero_()\n",
    "        w.grad.zero_()\n",
    "  \n",
    "print(b,w)\n"
   ]
  },
  {
   "cell_type": "code",
   "execution_count": 15,
   "id": "b5db70f6-b722-48fd-b7e4-ebdd18ff73b3",
   "metadata": {},
   "outputs": [
    {
     "data": {
      "image/svg+xml": [
       "<?xml version=\"1.0\" encoding=\"UTF-8\" standalone=\"no\"?>\n",
       "<!DOCTYPE svg PUBLIC \"-//W3C//DTD SVG 1.1//EN\"\n",
       " \"http://www.w3.org/Graphics/SVG/1.1/DTD/svg11.dtd\">\n",
       "<!-- Generated by graphviz version 10.0.1 (20240210.2158)\n",
       " -->\n",
       "<!-- Pages: 1 -->\n",
       "<svg width=\"220pt\" height=\"284pt\"\n",
       " viewBox=\"0.00 0.00 220.00 284.25\" xmlns=\"http://www.w3.org/2000/svg\" xmlns:xlink=\"http://www.w3.org/1999/xlink\">\n",
       "<g id=\"graph0\" class=\"graph\" transform=\"scale(1 1) rotate(0) translate(4 280.25)\">\n",
       "<polygon fill=\"white\" stroke=\"none\" points=\"-4,4 -4,-280.25 216,-280.25 216,4 -4,4\"/>\n",
       "<!-- 3032523729008 -->\n",
       "<g id=\"node1\" class=\"node\">\n",
       "<title>3032523729008</title>\n",
       "<polygon fill=\"#caff70\" stroke=\"black\" points=\"138,-31.25 74,-31.25 74,0 138,0 138,-31.25\"/>\n",
       "<text text-anchor=\"middle\" x=\"106\" y=\"-5.75\" font-family=\"monospace\" font-size=\"10.00\"> (80, 1)</text>\n",
       "</g>\n",
       "<!-- 3032325313568 -->\n",
       "<g id=\"node2\" class=\"node\">\n",
       "<title>3032325313568</title>\n",
       "<polygon fill=\"lightgrey\" stroke=\"black\" points=\"150,-86.5 62,-86.5 62,-67.25 150,-67.25 150,-86.5\"/>\n",
       "<text text-anchor=\"middle\" x=\"106\" y=\"-73\" font-family=\"monospace\" font-size=\"10.00\">AddBackward0</text>\n",
       "</g>\n",
       "<!-- 3032325313568&#45;&gt;3032523729008 -->\n",
       "<g id=\"edge6\" class=\"edge\">\n",
       "<title>3032325313568&#45;&gt;3032523729008</title>\n",
       "<path fill=\"none\" stroke=\"black\" d=\"M106,-66.88C106,-60.54 106,-51.7 106,-43.2\"/>\n",
       "<polygon fill=\"black\" stroke=\"black\" points=\"109.5,-43.22 106,-33.22 102.5,-43.22 109.5,-43.22\"/>\n",
       "</g>\n",
       "<!-- 3032523994448 -->\n",
       "<g id=\"node3\" class=\"node\">\n",
       "<title>3032523994448</title>\n",
       "<polygon fill=\"lightgrey\" stroke=\"black\" points=\"100,-141.75 0,-141.75 0,-122.5 100,-122.5 100,-141.75\"/>\n",
       "<text text-anchor=\"middle\" x=\"50\" y=\"-128.25\" font-family=\"monospace\" font-size=\"10.00\">AccumulateGrad</text>\n",
       "</g>\n",
       "<!-- 3032523994448&#45;&gt;3032325313568 -->\n",
       "<g id=\"edge1\" class=\"edge\">\n",
       "<title>3032523994448&#45;&gt;3032325313568</title>\n",
       "<path fill=\"none\" stroke=\"black\" d=\"M59.5,-122.09C67.43,-114.55 78.95,-103.6 88.54,-94.48\"/>\n",
       "<polygon fill=\"black\" stroke=\"black\" points=\"90.71,-97.24 95.54,-87.82 85.89,-92.17 90.71,-97.24\"/>\n",
       "</g>\n",
       "<!-- 3032325827728 -->\n",
       "<g id=\"node4\" class=\"node\">\n",
       "<title>3032325827728</title>\n",
       "<polygon fill=\"lightblue\" stroke=\"black\" points=\"77,-209 23,-209 23,-177.75 77,-177.75 77,-209\"/>\n",
       "<text text-anchor=\"middle\" x=\"50\" y=\"-183.5\" font-family=\"monospace\" font-size=\"10.00\"> (1)</text>\n",
       "</g>\n",
       "<!-- 3032325827728&#45;&gt;3032523994448 -->\n",
       "<g id=\"edge2\" class=\"edge\">\n",
       "<title>3032325827728&#45;&gt;3032523994448</title>\n",
       "<path fill=\"none\" stroke=\"black\" d=\"M50,-177.42C50,-170.22 50,-161.47 50,-153.66\"/>\n",
       "<polygon fill=\"black\" stroke=\"black\" points=\"53.5,-153.68 50,-143.68 46.5,-153.68 53.5,-153.68\"/>\n",
       "</g>\n",
       "<!-- 3032523994208 -->\n",
       "<g id=\"node5\" class=\"node\">\n",
       "<title>3032523994208</title>\n",
       "<polygon fill=\"lightgrey\" stroke=\"black\" points=\"206,-141.75 118,-141.75 118,-122.5 206,-122.5 206,-141.75\"/>\n",
       "<text text-anchor=\"middle\" x=\"162\" y=\"-128.25\" font-family=\"monospace\" font-size=\"10.00\">MulBackward0</text>\n",
       "</g>\n",
       "<!-- 3032523994208&#45;&gt;3032325313568 -->\n",
       "<g id=\"edge3\" class=\"edge\">\n",
       "<title>3032523994208&#45;&gt;3032325313568</title>\n",
       "<path fill=\"none\" stroke=\"black\" d=\"M152.5,-122.09C144.57,-114.55 133.05,-103.6 123.46,-94.48\"/>\n",
       "<polygon fill=\"black\" stroke=\"black\" points=\"126.11,-92.17 116.46,-87.82 121.29,-97.24 126.11,-92.17\"/>\n",
       "</g>\n",
       "<!-- 3032523994352 -->\n",
       "<g id=\"node6\" class=\"node\">\n",
       "<title>3032523994352</title>\n",
       "<polygon fill=\"lightgrey\" stroke=\"black\" points=\"212,-203 112,-203 112,-183.75 212,-183.75 212,-203\"/>\n",
       "<text text-anchor=\"middle\" x=\"162\" y=\"-189.5\" font-family=\"monospace\" font-size=\"10.00\">AccumulateGrad</text>\n",
       "</g>\n",
       "<!-- 3032523994352&#45;&gt;3032523994208 -->\n",
       "<g id=\"edge4\" class=\"edge\">\n",
       "<title>3032523994352&#45;&gt;3032523994208</title>\n",
       "<path fill=\"none\" stroke=\"black\" d=\"M162,-183.38C162,-175.46 162,-163.64 162,-153.45\"/>\n",
       "<polygon fill=\"black\" stroke=\"black\" points=\"165.5,-153.72 162,-143.72 158.5,-153.72 165.5,-153.72\"/>\n",
       "</g>\n",
       "<!-- 3032520983760 -->\n",
       "<g id=\"node7\" class=\"node\">\n",
       "<title>3032520983760</title>\n",
       "<polygon fill=\"lightblue\" stroke=\"black\" points=\"189,-276.25 135,-276.25 135,-245 189,-245 189,-276.25\"/>\n",
       "<text text-anchor=\"middle\" x=\"162\" y=\"-250.75\" font-family=\"monospace\" font-size=\"10.00\"> (1)</text>\n",
       "</g>\n",
       "<!-- 3032520983760&#45;&gt;3032523994352 -->\n",
       "<g id=\"edge5\" class=\"edge\">\n",
       "<title>3032520983760&#45;&gt;3032523994352</title>\n",
       "<path fill=\"none\" stroke=\"black\" d=\"M162,-244.82C162,-235.93 162,-224.5 162,-214.76\"/>\n",
       "<polygon fill=\"black\" stroke=\"black\" points=\"165.5,-214.81 162,-204.81 158.5,-214.81 165.5,-214.81\"/>\n",
       "</g>\n",
       "</g>\n",
       "</svg>\n"
      ],
      "text/plain": [
       "<graphviz.graphs.Digraph at 0x2c20dbdd510>"
      ]
     },
     "execution_count": 15,
     "metadata": {},
     "output_type": "execute_result"
    }
   ],
   "source": [
    "torch.manual_seed(42)\n",
    "b = torch.randn(1, requires_grad=True, dtype=torch.float, device=device)\n",
    "w = torch.randn(1, requires_grad=True, dtype=torch.float, device=device)\n",
    "\n",
    "yhat = b + w * x_train_tensor\n",
    "error = (yhat - y_train_tensor)\n",
    "loss = (error ** 2).mean()\n",
    "make_dot(yhat)"
   ]
  },
  {
   "cell_type": "code",
   "execution_count": 16,
   "id": "9b084587-c590-4bb6-a028-9a6e0af883e0",
   "metadata": {},
   "outputs": [
    {
     "name": "stdout",
     "output_type": "stream",
     "text": [
      "tensor([1.0235], device='cuda:0', requires_grad=True) tensor([1.9690], device='cuda:0', requires_grad=True)\n"
     ]
    }
   ],
   "source": [
    "lr = 0.1\n",
    "\n",
    "torch.manual_seed(42)\n",
    "b = torch.randn(1,requires_grad=True, dtype=torch.float, device=device)\n",
    "w = torch.randn(1, requires_grad=True, dtype=torch.float, device=device)\n",
    "\n",
    "# Defines a SGD optimier to update the parameter\n",
    "optimizer = optim.SGD([b, w], lr=lr)\n",
    "# Defines number of epochs\n",
    "n_epochs = 1000\n",
    "\n",
    "for epoch in range(n_epochs):\n",
    "    yhat = b + w * x_train_tensor\n",
    "    error = (yhat - y_train_tensor)\n",
    "    loss = (error ** 2).mean()\n",
    "    loss.backward()\n",
    "    # with torch.no_grad():\n",
    "    #     b -= lr * b.grad\n",
    "    #     w -= lr * w.grad\n",
    "    #     b.grad.zero_()\n",
    "    #     w.grad.zero_()\n",
    "    optimizer.step()\n",
    "    optimizer.zero_grad()\n",
    "print(b,w)\n"
   ]
  },
  {
   "cell_type": "code",
   "execution_count": 17,
   "id": "1632f2d7-4cc3-48fc-af96-4970727d342c",
   "metadata": {},
   "outputs": [
    {
     "name": "stdout",
     "output_type": "stream",
     "text": [
      "tensor([1.0235], device='cuda:0', requires_grad=True) tensor([1.9690], device='cuda:0', requires_grad=True)\n"
     ]
    }
   ],
   "source": [
    "lr = 0.1\n",
    "\n",
    "torch.manual_seed(42)\n",
    "b = torch.randn(1,requires_grad=True, dtype=torch.float, device=device)\n",
    "w = torch.randn(1, requires_grad=True, dtype=torch.float, device=device)\n",
    "\n",
    "# Defines a SGD optimier to update the parameter\n",
    "optimizer = optim.SGD([b, w], lr=lr)\n",
    "\n",
    "# Defines an MSE loss function\n",
    "loss_fn = nn.MSELoss(reduction='mean')\n",
    "\n",
    "# Defines number of epochs\n",
    "n_epochs = 1000\n",
    "\n",
    "for epoch in range(n_epochs):\n",
    "    # step 1 - Computes model's predicted output - forward pass\n",
    "    yhat = b + w * x_train_tensor\n",
    "\n",
    "    # step 2 - Computes the loss\n",
    "    # No more manual loss! \n",
    "    # error = (yhat - y_train_tensor)\n",
    "    # loss = (error ** 2).mean()\n",
    "    loss = loss_fn(yhat, y_train_tensor)\n",
    "\n",
    "    # Step 3 - Computes gradients for both \"b\" and \"w\" parameters\n",
    "    loss.backward()\n",
    "\n",
    "    # Step 4 - Updated parameters using gradients and\n",
    "    # the learning rate\n",
    "    optimizer.step()\n",
    "    optimizer.zero_grad()\n",
    "print(b,w)\n"
   ]
  },
  {
   "cell_type": "code",
   "execution_count": 18,
   "id": "c88ab942-785d-4ac5-9182-98cdb402e6ac",
   "metadata": {},
   "outputs": [
    {
     "data": {
      "text/plain": [
       "tensor(0.0080, device='cuda:0', grad_fn=<MseLossBackward0>)"
      ]
     },
     "execution_count": 18,
     "metadata": {},
     "output_type": "execute_result"
    }
   ],
   "source": [
    "loss"
   ]
  },
  {
   "cell_type": "code",
   "execution_count": 19,
   "id": "ffd64e68-5e72-4dd6-bf84-a6539f2e6600",
   "metadata": {},
   "outputs": [
    {
     "data": {
      "text/plain": [
       "array(0.00804466, dtype=float32)"
      ]
     },
     "execution_count": 19,
     "metadata": {},
     "output_type": "execute_result"
    }
   ],
   "source": [
    "loss.detach().cpu().numpy()"
   ]
  },
  {
   "cell_type": "code",
   "execution_count": 20,
   "id": "23fe63e9-ba16-4c35-95a7-568d46f8c634",
   "metadata": {},
   "outputs": [
    {
     "name": "stdout",
     "output_type": "stream",
     "text": [
      "0.008044655434787273 0.008044655434787273\n"
     ]
    }
   ],
   "source": [
    "print(loss.item(), loss.tolist())"
   ]
  },
  {
   "cell_type": "code",
   "execution_count": 21,
   "id": "e3d0b725-e941-48b5-af0e-ce5d78aef0b7",
   "metadata": {},
   "outputs": [],
   "source": [
    "class ManualLinearRegression(nn.Module):\n",
    "    def __init__(self):\n",
    "        super().__init__()\n",
    "        self.b = nn.Parameter(torch.randn(1,requires_grad=True, dtype=torch.float))\n",
    "        self.w = nn.Parameter(torch.randn(1,requires_grad=True, dtype=torch.float))\n",
    "\n",
    "    def forward(self,x):\n",
    "        # Computes the outputs / predictions\n",
    "        return self.b + self.w * x"
   ]
  },
  {
   "cell_type": "code",
   "execution_count": 22,
   "id": "5400bd77-62ad-45a1-8d1c-03e21adc79da",
   "metadata": {},
   "outputs": [
    {
     "data": {
      "text/plain": [
       "[Parameter containing:\n",
       " tensor([0.3367], requires_grad=True),\n",
       " Parameter containing:\n",
       " tensor([0.1288], requires_grad=True)]"
      ]
     },
     "execution_count": 22,
     "metadata": {},
     "output_type": "execute_result"
    }
   ],
   "source": [
    "torch.manual_seed(42)\n",
    "# Creates a \"dummy\" instance of our ManualLinearRegress model\n",
    "dummy = ManualLinearRegression()\n",
    "list(dummy.parameters())\n"
   ]
  },
  {
   "cell_type": "code",
   "execution_count": 23,
   "id": "27cadb69-483d-46c8-9d8a-5dea53d6687d",
   "metadata": {},
   "outputs": [
    {
     "data": {
      "text/plain": [
       "OrderedDict([('b', tensor([0.3367])), ('w', tensor([0.1288]))])"
      ]
     },
     "execution_count": 23,
     "metadata": {},
     "output_type": "execute_result"
    }
   ],
   "source": [
    "dummy.state_dict()"
   ]
  },
  {
   "cell_type": "code",
   "execution_count": 24,
   "id": "67b2f91c-1a8b-4f07-81f5-78efabc0ba60",
   "metadata": {},
   "outputs": [
    {
     "data": {
      "text/plain": [
       "{'state': {0: {'momentum_buffer': None}, 1: {'momentum_buffer': None}},\n",
       " 'param_groups': [{'lr': 0.1,\n",
       "   'momentum': 0,\n",
       "   'dampening': 0,\n",
       "   'weight_decay': 0,\n",
       "   'nesterov': False,\n",
       "   'maximize': False,\n",
       "   'foreach': None,\n",
       "   'differentiable': False,\n",
       "   'params': [0, 1]}]}"
      ]
     },
     "execution_count": 24,
     "metadata": {},
     "output_type": "execute_result"
    }
   ],
   "source": [
    "optimizer.state_dict()"
   ]
  },
  {
   "cell_type": "code",
   "execution_count": 25,
   "id": "e7c3a19f-cc49-4f02-afc0-a7d963e728c6",
   "metadata": {},
   "outputs": [
    {
     "name": "stdout",
     "output_type": "stream",
     "text": [
      "OrderedDict([('b', tensor([1.0235], device='cuda:0')), ('w', tensor([1.9690], device='cuda:0'))])\n"
     ]
    }
   ],
   "source": [
    "lr = 0.1\n",
    "\n",
    "# step 0 - Initialize parameters \"b\" and \"w\" randomly\n",
    "torch.manual_seed(42)\n",
    "\n",
    "# Now we can create a model and send it at once to the device\n",
    "model = ManualLinearRegression().to(device)\n",
    "\n",
    "# Defines a SGD optimier to update the parameter\n",
    "optimizer = optim.SGD(model.parameters(), lr=lr)\n",
    "\n",
    "# Defines an MSE loss function\n",
    "loss_fn = nn.MSELoss(reduction='mean')\n",
    "\n",
    "# Defines number of epochs\n",
    "n_epochs = 1000\n",
    "\n",
    "for epoch in range(n_epochs):\n",
    "    model.train()\n",
    "    \n",
    "    # step 1 - Computes model's predicted output - forward pass\n",
    "    yhat = model(x_train_tensor)\n",
    "\n",
    "    # step 2 - Computes the loss\n",
    "    # No more manual loss! \n",
    "    # error = (yhat - y_train_tensor)\n",
    "    # loss = (error ** 2).mean()\n",
    "    loss = loss_fn(yhat, y_train_tensor)\n",
    "\n",
    "    # Step 3 - Computes gradients for both \"b\" and \"w\" parameters\n",
    "    loss.backward()\n",
    "\n",
    "    # Step 4 - Updated parameters using gradients and\n",
    "    # the learning rate\n",
    "    optimizer.step()\n",
    "    optimizer.zero_grad()\n",
    "\n",
    "# We can alse inpsect its parameters using its state_dict\n",
    "print(model.state_dict())\n"
   ]
  },
  {
   "cell_type": "code",
   "execution_count": 26,
   "id": "c7dc2b22-77c0-4c68-8742-7964c5632e26",
   "metadata": {},
   "outputs": [],
   "source": [
    "class MyLinearRegression(nn.Module):\n",
    "    def __init__(self):\n",
    "        super().__init__()\n",
    "        # self.b = nn.Parameter(torch.randn(1,requires_grad=True, dtype=torch.float))\n",
    "        # self.w = nn.Parameter(torch.randn(1,requires_grad=True, dtype=torch.float))\n",
    "        # Instead of out custom paramters, we use a linear model\n",
    "        # with a single input and single output\n",
    "        self.linear = nn.Linear(1,1)\n",
    "\n",
    "    def forward(self,x):\n",
    "        # Computes the outputs / predictions\n",
    "        # return self.b + self.w * x\n",
    "        self.linear(x)"
   ]
  },
  {
   "cell_type": "code",
   "execution_count": 27,
   "id": "5b7728a8-d73a-4c9c-bfb6-2eec001a6bca",
   "metadata": {},
   "outputs": [
    {
     "data": {
      "text/plain": [
       "[Parameter containing:\n",
       " tensor([[0.7645]], device='cuda:0', requires_grad=True),\n",
       " Parameter containing:\n",
       " tensor([0.8300], device='cuda:0', requires_grad=True)]"
      ]
     },
     "execution_count": 27,
     "metadata": {},
     "output_type": "execute_result"
    }
   ],
   "source": [
    "torch.manual_seed(42)\n",
    "dummy = MyLinearRegression().to(device)\n",
    "list(dummy.parameters())"
   ]
  },
  {
   "cell_type": "code",
   "execution_count": 28,
   "id": "e8a53f02-534c-4063-9685-af780dde8d02",
   "metadata": {},
   "outputs": [
    {
     "data": {
      "text/plain": [
       "OrderedDict([('linear.weight', tensor([[0.7645]], device='cuda:0')),\n",
       "             ('linear.bias', tensor([0.8300], device='cuda:0'))])"
      ]
     },
     "execution_count": 28,
     "metadata": {},
     "output_type": "execute_result"
    }
   ],
   "source": [
    "dummy.state_dict()"
   ]
  },
  {
   "cell_type": "markdown",
   "id": "3d4dea0b-0659-4b06-8339-5768ed7a6c26",
   "metadata": {},
   "source": [
    "Makedown"
   ]
  },
  {
   "cell_type": "code",
   "execution_count": 29,
   "id": "38db0b62-65c0-49c7-8241-8c307e36cc11",
   "metadata": {},
   "outputs": [
    {
     "data": {
      "text/plain": [
       "OrderedDict([('0.weight', tensor([[0.7645]], device='cuda:0')),\n",
       "             ('0.bias', tensor([0.8300], device='cuda:0'))])"
      ]
     },
     "execution_count": 29,
     "metadata": {},
     "output_type": "execute_result"
    }
   ],
   "source": [
    "torch.manual_seed(42)\n",
    "# Alternatively, you can use a Sequential mode\n",
    "model = nn.Sequential(nn.Linear(1,1)).to(device)\n",
    "model.state_dict()"
   ]
  },
  {
   "cell_type": "code",
   "execution_count": 31,
   "id": "d1014c35-7735-4bfb-be87-e44d485a7b94",
   "metadata": {},
   "outputs": [
    {
     "data": {
      "text/plain": [
       "OrderedDict([('0.weight',\n",
       "              tensor([[ 0.4414,  0.4792, -0.1353],\n",
       "                      [ 0.5304, -0.1265,  0.1165],\n",
       "                      [-0.2811,  0.3391,  0.5090],\n",
       "                      [-0.4236,  0.5018,  0.1081],\n",
       "                      [ 0.4266,  0.0782,  0.2784]], device='cuda:0')),\n",
       "             ('0.bias',\n",
       "              tensor([-0.0815,  0.4451,  0.0853, -0.2695,  0.1472], device='cuda:0')),\n",
       "             ('1.weight',\n",
       "              tensor([[-0.2060, -0.0524, -0.1816,  0.2967, -0.3530]], device='cuda:0')),\n",
       "             ('1.bias', tensor([-0.2062], device='cuda:0'))])"
      ]
     },
     "execution_count": 31,
     "metadata": {},
     "output_type": "execute_result"
    }
   ],
   "source": [
    "torch.manual_seed(42)\n",
    "# Building the model fromt he figure above\n",
    "model = nn.Sequential(nn.Linear(3,5), nn.Linear(5,1)).to(device)\n",
    "model.state_dict()"
   ]
  },
  {
   "cell_type": "code",
   "execution_count": 32,
   "id": "5314e205-296d-4fcb-885e-1128bcce285f",
   "metadata": {},
   "outputs": [
    {
     "data": {
      "text/plain": [
       "Sequential(\n",
       "  (layer1): Linear(in_features=3, out_features=5, bias=True)\n",
       "  (layer2): Linear(in_features=5, out_features=1, bias=True)\n",
       ")"
      ]
     },
     "execution_count": 32,
     "metadata": {},
     "output_type": "execute_result"
    }
   ],
   "source": [
    "torch.manual_seed(42)\n",
    "# Building the model from the figure above\n",
    "model = nn.Sequential()\n",
    "model.add_module('layer1', nn.Linear(3,5))\n",
    "model.add_module('layer2', nn.Linear(5,1))\n",
    "model.to(device)"
   ]
  },
  {
   "cell_type": "code",
   "execution_count": 35,
   "id": "34116a0f-ead1-4e22-83b4-c94dbbc9f3c2",
   "metadata": {},
   "outputs": [
    {
     "name": "stdout",
     "output_type": "stream",
     "text": [
      "Writing data_preparation/v0.py\n"
     ]
    }
   ],
   "source": [
    "%%writefile data_preparation/v0.py\n",
    "\n",
    "device = 'cuda' if torch.cuda.is_available() else 'cpu'\n",
    "\n",
    "x_train_tensor = torch.as_tensor(x_train).float().to(device)\n",
    "y_train_tensor = torch.as_tensor(y_train).float().to(device)\n",
    "\n",
    "%run -i data_preparation/v0.py"
   ]
  },
  {
   "cell_type": "code",
   "execution_count": 36,
   "id": "eed62a4d-49e9-4ba6-9c49-a835016a738b",
   "metadata": {},
   "outputs": [
    {
     "name": "stdout",
     "output_type": "stream",
     "text": [
      "Writing model_configuration/v0.py\n"
     ]
    }
   ],
   "source": [
    "%%writefile model_configuration/v0.py\n",
    "\n",
    "# This is redundant now, but it won't be when we introduce\n",
    "# Datasets...\n",
    "device = 'cuda' if torch.cuda.is_available() else 'cpu'\n",
    "\n",
    "# Set learning rate - this is \"eta\"\n",
    "lr = 0.1\n",
    "\n",
    "torch.manual_seed(42)\n",
    "model = nn.Sequential(nn.Linear(1,1)).to(device)\n",
    "\n",
    "# Defines an SGD optimizer to update the paramters\n",
    "optimizer = optim.SGD(model.parameters(), lr=lr)\n",
    "\n",
    "# Definese an MSE loss function\n",
    "loss_fn = nn.MSELoss(reduction='mean')"
   ]
  },
  {
   "cell_type": "code",
   "execution_count": 37,
   "id": "f5ed1f62-0074-44e7-8226-e6d60bbe9839",
   "metadata": {},
   "outputs": [],
   "source": [
    "%run -i model_configuration/v0.py"
   ]
  },
  {
   "cell_type": "code",
   "execution_count": 38,
   "id": "990156b4-d29f-4d5d-a446-10b059431e12",
   "metadata": {},
   "outputs": [
    {
     "name": "stdout",
     "output_type": "stream",
     "text": [
      "Writing model_training/v0.py\n"
     ]
    }
   ],
   "source": [
    "%%writefile model_training/v0.py\n",
    "\n",
    "# Defines number of epochs\n",
    "n_epochs = 1000\n",
    "\n",
    "for epoch in range(n_epochs):\n",
    "    # Set model to TRAIN mode\n",
    "    model.train()\n",
    "    # Step 1- Computes model's predicted output - forward parss\n",
    "    yhat = model(x_train_tensor)\n",
    "    # Step 2 = Computes the loss\n",
    "    loss = loss_fn(yhat, y_train_tensor)\n",
    "    # Step 3 - Computes gradients for both \"b\" and \"w\" paramters\n",
    "    loss.backward()\n",
    "    # Step 4 - Updats parameters using gradients and the learning rate\n",
    "    optimizer.step()\n",
    "    optimizer.zero_grad()"
   ]
  },
  {
   "cell_type": "code",
   "execution_count": 39,
   "id": "f21ddca7-a117-47aa-a7d9-551119d46d6d",
   "metadata": {},
   "outputs": [],
   "source": [
    "%run -i model_training/v0.py"
   ]
  },
  {
   "cell_type": "code",
   "execution_count": 40,
   "id": "3d959a62-eb35-4a97-80e4-a9a6e260c136",
   "metadata": {},
   "outputs": [
    {
     "name": "stdout",
     "output_type": "stream",
     "text": [
      "OrderedDict([('0.weight', tensor([[1.9690]], device='cuda:0')), ('0.bias', tensor([1.0235], device='cuda:0'))])\n"
     ]
    }
   ],
   "source": [
    "print(model.state_dict())"
   ]
  },
  {
   "cell_type": "code",
   "execution_count": null,
   "id": "f6156b08-8817-4c8f-8cf8-22986ff0cad6",
   "metadata": {},
   "outputs": [],
   "source": []
  }
 ],
 "metadata": {
  "kernelspec": {
   "display_name": "Python 3 (ipykernel)",
   "language": "python",
   "name": "python3"
  },
  "language_info": {
   "codemirror_mode": {
    "name": "ipython",
    "version": 3
   },
   "file_extension": ".py",
   "mimetype": "text/x-python",
   "name": "python",
   "nbconvert_exporter": "python",
   "pygments_lexer": "ipython3",
   "version": "3.11.7"
  }
 },
 "nbformat": 4,
 "nbformat_minor": 5
}
