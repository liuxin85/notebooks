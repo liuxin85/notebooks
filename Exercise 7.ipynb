{
 "cells": [
  {
   "cell_type": "code",
<<<<<<< HEAD
   "execution_count": 1,
   "id": "83008b75-083f-41c5-a5f5-236364a5746e",
=======
   "execution_count": 2,
   "id": "07807ca9-0fb1-477d-9005-9a793127d371",
>>>>>>> e816e9b49ac4164c1196852b75646f7b2f7fb0f9
   "metadata": {},
   "outputs": [],
   "source": [
    "import numpy as np\n",
    "from PIL import Image\n",
    "\n",
    "import torch\n",
    "import torch.optim as optim\n",
    "import torch.nn as nn\n",
    "import torch.nn.functional as F\n",
    "\n",
    "from torch.utils.data import DataLoader, Dataset, random_split, TensorDataset\n",
    "from torchvision.transforms import Compose, ToTensor, Normalize, Resize, ToPILImage, CenterCrop, RandomResizedCrop\n",
    "from torchvision.datasets import ImageFolder\n",
    "from torchvision.models import alexnet, resnet18, inception_v3\n",
    "\n",
    "# Updated for Torchvision 0.15\n",
    "from torchvision.models.alexnet import AlexNet_Weights\n",
    "from torchvision.models.inception import Inception_V3_Weights\n",
    "from torchvision.models.resnet import ResNet18_Weights\n",
    "# from torchvision.models.alexnet import model_urls\n",
    "\n",
    "try:\n",
    "    from torchvision.models.utils import load_state_dict_from_url\n",
    "except ImportError:\n",
    "    from torch.hub import load_state_dict_from_url\n",
    "\n",
    "from stepbystep.v3 import StepByStep\n",
    "from data_generation.rps import download_rps"
   ]
  },
  {
   "cell_type": "code",
<<<<<<< HEAD
   "execution_count": 3,
   "id": "fadf19b8-143e-4c75-ac08-3e783d4aff66",
=======
   "execution_count": 5,
   "id": "784bd49a-92e8-4431-9daf-e752bfbac018",
>>>>>>> e816e9b49ac4164c1196852b75646f7b2f7fb0f9
   "metadata": {},
   "outputs": [
    {
     "name": "stdout",
     "output_type": "stream",
     "text": [
      "AlexNet(\n",
      "  (features): Sequential(\n",
      "    (0): Conv2d(3, 64, kernel_size=(11, 11), stride=(4, 4), padding=(2, 2))\n",
      "    (1): ReLU(inplace=True)\n",
      "    (2): MaxPool2d(kernel_size=3, stride=2, padding=0, dilation=1, ceil_mode=False)\n",
      "    (3): Conv2d(64, 192, kernel_size=(5, 5), stride=(1, 1), padding=(2, 2))\n",
      "    (4): ReLU(inplace=True)\n",
      "    (5): MaxPool2d(kernel_size=3, stride=2, padding=0, dilation=1, ceil_mode=False)\n",
      "    (6): Conv2d(192, 384, kernel_size=(3, 3), stride=(1, 1), padding=(1, 1))\n",
      "    (7): ReLU(inplace=True)\n",
      "    (8): Conv2d(384, 256, kernel_size=(3, 3), stride=(1, 1), padding=(1, 1))\n",
      "    (9): ReLU(inplace=True)\n",
      "    (10): Conv2d(256, 256, kernel_size=(3, 3), stride=(1, 1), padding=(1, 1))\n",
      "    (11): ReLU(inplace=True)\n",
      "    (12): MaxPool2d(kernel_size=3, stride=2, padding=0, dilation=1, ceil_mode=False)\n",
      "  )\n",
      "  (avgpool): AdaptiveAvgPool2d(output_size=(6, 6))\n",
      "  (classifier): Sequential(\n",
      "    (0): Dropout(p=0.5, inplace=False)\n",
      "    (1): Linear(in_features=9216, out_features=4096, bias=True)\n",
      "    (2): ReLU(inplace=True)\n",
      "    (3): Dropout(p=0.5, inplace=False)\n",
      "    (4): Linear(in_features=4096, out_features=4096, bias=True)\n",
      "    (5): ReLU(inplace=True)\n",
      "    (6): Linear(in_features=4096, out_features=1000, bias=True)\n",
      "  )\n",
      ")\n"
     ]
    }
   ],
   "source": [
<<<<<<< HEAD
    "alex = alexnet(weights=None)\n",
=======
    "alex = alexnet(weights=False)\n",
>>>>>>> e816e9b49ac4164c1196852b75646f7b2f7fb0f9
    "print(alex)"
   ]
  },
  {
   "cell_type": "code",
<<<<<<< HEAD
   "execution_count": 4,
   "id": "414f546b-74df-470a-a6a1-a4934ee56257",
   "metadata": {},
   "outputs": [
    {
     "data": {
      "text/plain": [
       "(torch.Size([16, 6, 6]), torch.Size([16, 6, 6]))"
      ]
     },
     "execution_count": 4,
     "metadata": {},
     "output_type": "execute_result"
    }
   ],
   "source": [
    "result1 = F.adaptive_avg_pool2d(torch.randn(16,32,32), output_size=(6,6))\n",
    "\n",
    "result2 = F.adaptive_avg_pool2d(torch.randn(16,12,12), output_size=(6,6))\n",
    "result1.shape, result2.shape"
   ]
  },
  {
   "cell_type": "code",
   "execution_count": 7,
   "id": "88417176-5e07-4b3b-95e4-f56ac97958a2",
   "metadata": {},
   "outputs": [],
   "source": [
    "from torchvision.models.alexnet import AlexNet_Weights"
   ]
  },
  {
   "cell_type": "code",
   "execution_count": 9,
   "id": "ef786c66-3bc6-4c50-b571-7c5e85f7d03c",
   "metadata": {},
   "outputs": [
    {
     "name": "stderr",
     "output_type": "stream",
     "text": [
      "Downloading: \"https://download.pytorch.org/models/alexnet-owt-7be5be79.pth\" to C:\\Users\\liuxi/.cache\\torch\\hub\\checkpoints\\alexnet-owt-7be5be79.pth\n",
      "100%|███████████████████████████████████████████████████████████████████████████████| 233M/233M [01:01<00:00, 3.95MB/s]\n"
     ]
    }
   ],
   "source": [
    "weights = AlexNet_Weights.DEFAULT\n",
    "alex = alexnet(weights=weights)"
   ]
  },
  {
   "cell_type": "code",
   "execution_count": 10,
   "id": "65237a48-859a-430e-ac2e-e517e13a8dd1",
   "metadata": {},
   "outputs": [
    {
     "data": {
      "text/plain": [
       "'https://download.pytorch.org/models/alexnet-owt-7be5be79.pth'"
      ]
     },
     "execution_count": 10,
     "metadata": {},
     "output_type": "execute_result"
    }
   ],
   "source": [
    "url = weights.url\n",
    "url"
   ]
  },
  {
   "cell_type": "code",
   "execution_count": 13,
   "id": "fd5c4510-3b8f-4898-a659-697d80e0c3c2",
   "metadata": {},
   "outputs": [],
   "source": [
    "def freeze_model(model):\n",
    "    for parameter in model.parameters():\n",
    "        parameter.requires_grad = False"
   ]
  },
  {
   "cell_type": "code",
   "execution_count": 14,
   "id": "9eaf7f0c-9491-4519-9384-cadb5f4ee925",
   "metadata": {},
   "outputs": [],
   "source": [
    "freeze_model(alex)"
   ]
  },
  {
   "cell_type": "code",
   "execution_count": 15,
   "id": "906c1f1f-f474-4f93-a073-1f094428129b",
   "metadata": {},
   "outputs": [
    {
     "name": "stdout",
     "output_type": "stream",
     "text": [
      "Sequential(\n",
      "  (0): Dropout(p=0.5, inplace=False)\n",
      "  (1): Linear(in_features=9216, out_features=4096, bias=True)\n",
      "  (2): ReLU(inplace=True)\n",
      "  (3): Dropout(p=0.5, inplace=False)\n",
      "  (4): Linear(in_features=4096, out_features=4096, bias=True)\n",
      "  (5): ReLU(inplace=True)\n",
      "  (6): Linear(in_features=4096, out_features=1000, bias=True)\n",
      ")\n"
     ]
    }
   ],
   "source": [
    "print(alex.classifier)"
   ]
  },
  {
   "cell_type": "code",
   "execution_count": 16,
   "id": "9cc3281a-a14d-46eb-b16f-648ae743a933",
   "metadata": {},
   "outputs": [],
   "source": [
    "alex.classifier[6] = nn.Linear(4096,3)"
   ]
  },
  {
   "cell_type": "code",
   "execution_count": 17,
   "id": "6b57b168-1873-48ae-8f0f-0a85127f94d3",
   "metadata": {},
   "outputs": [
    {
     "name": "stdout",
     "output_type": "stream",
     "text": [
      "classifier.6.weight\n",
      "classifier.6.bias\n"
     ]
    }
   ],
   "source": [
    "for name, param in alex.named_parameters():\n",
    "    if param.requires_grad == True:\n",
    "        print(name)"
   ]
  },
  {
   "cell_type": "code",
   "execution_count": 19,
   "id": "0edb60cf-a6bb-43aa-a6ed-5ef2d0b021c4",
   "metadata": {},
   "outputs": [],
   "source": [
    "torch.manual_seed(17)\n",
    "multi_loss_fn = nn.CrossEntropyLoss(reduction='mean')\n",
    "optimizer_alex = optim.Adam(alex.parameters(), lr=3e-4)"
   ]
  },
  {
   "cell_type": "code",
   "execution_count": 20,
   "id": "d29a5e8a-1e93-4b48-bbae-60aee7a55bb2",
   "metadata": {},
   "outputs": [],
   "source": [
    "normalizer = Normalize(mean=[0.485, 0.456, 0.406], std=[0.229, 0.224, 0.225])\n",
    "composer = Compose([Resize(256), CenterCrop(224), ToTensor(), normalizer])\n",
    "\n",
    "train_data = ImageFolder(root='rps', transform=composer)\n",
    "val_data = ImageFolder(root='rps-test-set', transform=composer)\n",
    "\n",
    "# Builds a loader of each set\n",
    "train_loader = DataLoader(train_data, batch_size=16, shuffle=True)\n",
    "val_loader = DataLoader(val_data, batch_size=16)"
   ]
  },
  {
   "cell_type": "code",
   "execution_count": 21,
   "id": "5ce1345b-7319-4ed0-b59c-6e587c072fd1",
   "metadata": {},
   "outputs": [],
   "source": [
    "sbs_alex = StepByStep(alex, multi_loss_fn, optimizer_alex)\n",
    "sbs_alex.set_loaders(train_loader, val_loader)\n",
    "sbs_alex.train(1)"
   ]
  },
  {
   "cell_type": "code",
   "execution_count": 22,
   "id": "e2227ea1-27ea-4599-b508-666319fbea06",
   "metadata": {},
   "outputs": [
    {
     "data": {
      "text/plain": [
       "tensor([[111, 124],\n",
       "        [124, 124],\n",
       "        [124, 124]])"
      ]
     },
     "execution_count": 22,
     "metadata": {},
     "output_type": "execute_result"
    }
   ],
   "source": [
    "StepByStep.loader_apply(val_loader, sbs_alex.correct)"
   ]
  },
  {
   "cell_type": "code",
   "execution_count": 23,
   "id": "e1801025-3956-402d-b221-46a01a24a805",
   "metadata": {},
   "outputs": [
    {
     "name": "stdout",
     "output_type": "stream",
     "text": [
      "Sequential(\n",
      "  (0): Dropout(p=0.5, inplace=False)\n",
      "  (1): Linear(in_features=9216, out_features=4096, bias=True)\n",
      "  (2): ReLU(inplace=True)\n",
      "  (3): Dropout(p=0.5, inplace=False)\n",
      "  (4): Linear(in_features=4096, out_features=4096, bias=True)\n",
      "  (5): ReLU(inplace=True)\n",
      "  (6): Identity()\n",
      ")\n"
     ]
    }
   ],
   "source": [
    "alex.classifier[6] = nn.Identity()\n",
    "print(alex.classifier)"
   ]
  },
  {
   "cell_type": "code",
   "execution_count": 24,
   "id": "e69d7a32-7b5d-452c-a074-f0d17eb99967",
   "metadata": {},
   "outputs": [],
   "source": [
    "def preprocessed_dataset(model, loader, device=None):\n",
    "    if device is None:\n",
    "        device = next(model.parameters()).device\n",
    "    features = None\n",
    "    labels = None\n",
    "\n",
    "    for i, (x, y) in enumerate(loader):\n",
    "        model.eval()\n",
    "        output = model(x.to(device))\n",
    "        if i == 0:\n",
    "            features = output.detach().cpu()\n",
    "            labels = y.cpu()\n",
    "        else:\n",
    "            features = torch.cat([features, output.detach().cpu()])\n",
    "            labels = torch.cat([labels, y.cpu()])\n",
    "    dataset = TensorDataset(features, labels)\n",
    "    return dataset"
   ]
  },
  {
   "cell_type": "code",
   "execution_count": 25,
   "id": "b20d7d28-2de7-42c6-911d-9b17e9f89526",
   "metadata": {},
   "outputs": [],
   "source": [
    "train_preproc = preprocessed_dataset(alex, train_loader)\n",
    "val_preproc = preprocessed_dataset(alex, val_loader)"
   ]
  },
  {
   "cell_type": "code",
   "execution_count": 26,
   "id": "e3f838b0-952e-47f4-8e46-92ce2c014ecb",
   "metadata": {},
   "outputs": [],
   "source": [
    "torch.save(train_preproc.tensors, 'rps_preproc.pth')\n",
    "torch.save(val_preproc.tensors, 'rps_val_preproc.pth')"
   ]
  },
  {
   "cell_type": "code",
   "execution_count": 27,
   "id": "b7d09870-e8c4-4601-aafc-55924b3ee846",
   "metadata": {},
   "outputs": [],
   "source": [
    "x, y = torch.load('rps_preproc.pth')\n",
    "train_preproc = TensorDataset(x, y)\n",
    "val_preproc = TensorDataset(*torch.load('rps_val_preproc.pth'))"
   ]
  },
  {
   "cell_type": "code",
   "execution_count": 28,
   "id": "8539f9dd-7e94-4d52-b005-78c600049ce8",
   "metadata": {},
   "outputs": [],
   "source": [
    "train_preproc_loader = DataLoader(train_preproc, batch_size=16, shuffle=True)\n",
    "val_preproc_laoder = DataLoader(val_preproc, batch_size=16)"
   ]
  },
  {
   "cell_type": "code",
   "execution_count": 29,
   "id": "3b2b8ffd-be88-45bf-8f94-580239309a24",
   "metadata": {},
   "outputs": [],
   "source": [
    "torch.manual_seed(17)\n",
    "top_model = nn.Sequential(nn.Linear(4096, 3))\n",
    "multi_loss_fn = nn.CrossEntropyLoss(reduction='mean')\n",
    "optimizer_top = optim.Adam(top_model.parameters(), lr=3e-4)"
   ]
  },
  {
   "cell_type": "code",
   "execution_count": 30,
   "id": "1f0cb404-d37a-4ae8-b585-37cbccd5af1e",
   "metadata": {},
   "outputs": [],
   "source": [
    "sbs_top = StepByStep(top_model, multi_loss_fn, optimizer_top)\n",
    "sbs_top.set_loaders(train_preproc_loader, val_preproc_laoder)\n",
    "sbs_top.train(10)"
   ]
  },
  {
   "cell_type": "code",
   "execution_count": 31,
   "id": "18d795c3-614a-4af9-9fcd-bd5ff120ecf1",
   "metadata": {},
   "outputs": [
    {
     "name": "stdout",
     "output_type": "stream",
     "text": [
      "Sequential(\n",
      "  (0): Dropout(p=0.5, inplace=False)\n",
      "  (1): Linear(in_features=9216, out_features=4096, bias=True)\n",
      "  (2): ReLU(inplace=True)\n",
      "  (3): Dropout(p=0.5, inplace=False)\n",
      "  (4): Linear(in_features=4096, out_features=4096, bias=True)\n",
      "  (5): ReLU(inplace=True)\n",
      "  (6): Sequential(\n",
      "    (0): Linear(in_features=4096, out_features=3, bias=True)\n",
      "  )\n",
      ")\n"
     ]
    }
   ],
   "source": [
    "sbs_alex.model.classifier[6] = top_model\n",
    "print(sbs_alex.model.classifier)"
   ]
  },
  {
   "cell_type": "code",
   "execution_count": 32,
   "id": "577f96f2-7e34-4fd8-9c09-58a7e13cb7ab",
   "metadata": {},
   "outputs": [
    {
     "data": {
      "text/plain": [
       "tensor([[109, 124],\n",
       "        [124, 124],\n",
       "        [124, 124]])"
      ]
     },
     "execution_count": 32,
     "metadata": {},
     "output_type": "execute_result"
    }
   ],
   "source": [
    "StepByStep.loader_apply(val_loader, sbs_alex.correct)"
   ]
  },
  {
   "cell_type": "markdown",
   "id": "4afb76b7-287a-4bc1-b942-d4ed7678286b",
   "metadata": {},
   "source": [
    "## Auxiliary Clasifiers (Side-Header)"
   ]
  },
  {
   "cell_type": "code",
   "execution_count": 33,
   "id": "375035f4-e035-48e0-b5ab-76925e584829",
   "metadata": {},
   "outputs": [
    {
     "name": "stderr",
     "output_type": "stream",
     "text": [
      "Downloading: \"https://download.pytorch.org/models/inception_v3_google-0cc3c7bd.pth\" to C:\\Users\\liuxi/.cache\\torch\\hub\\checkpoints\\inception_v3_google-0cc3c7bd.pth\n",
      "100%|███████████████████████████████████████████████████████████████████████████████| 104M/104M [00:15<00:00, 6.90MB/s]\n"
     ]
    }
   ],
   "source": [
    "# repeating import from the top for reference\n",
    "from torchvision.models.inception import Inception_V3_Weights\n",
    "\n",
    "# UPDATED\n",
    "###########################################################\n",
    "# This is the recommended way of loading a pretrained\n",
    "# model's weights\n",
    "model = inception_v3(weights=Inception_V3_Weights.DEFAULT)\n",
    "# model = inception_v3(pretrained=True)\n",
    "###########################################################\n",
    "\n",
    "freeze_model(model)\n",
    "\n",
    "torch.manual_seed(42)\n",
    "model.AuxLogits.fc = nn.Linear(768, 3)\n",
    "model.fc = nn.Linear(2048, 3)"
   ]
  },
  {
   "cell_type": "code",
   "execution_count": 34,
   "id": "545164fb-9998-44ea-9a1f-b6a622aaa407",
   "metadata": {},
   "outputs": [],
   "source": [
    "def inception_loss(outputs, labels):\n",
    "    try:\n",
    "        main, aux = outputs\n",
    "    except ValueError:\n",
    "        main = outputs\n",
    "        aux = None\n",
    "        loss_aux = 0\n",
    "    multi_loss_fn = nn.CrossEntropyLoss(reduction='mean')\n",
    "    loss_main = multi_loss_fn(main, labels)\n",
    "    if aux is not None:\n",
    "        loss_aux = multi_loss_fn(aux, labels)\n",
    "    return loss_main + 0.4 * loss_aux"
   ]
  },
  {
   "cell_type": "code",
   "execution_count": 36,
   "id": "b3b1d378-a7d1-4312-bc4c-7267bb5c2341",
   "metadata": {},
   "outputs": [],
   "source": [
    "optimizer_model = optim.Adam(model.parameters(), lr=3e-4)\n",
    "sbs_incep = StepByStep(model, inception_loss, optimizer_model)"
   ]
  },
  {
   "cell_type": "code",
   "execution_count": 37,
   "id": "1188177d-6b02-421f-905a-5aac21e18e08",
   "metadata": {},
   "outputs": [],
   "source": [
    "normalizer = Normalize(mean= [0.485, 0.456, 0.406], std=[0.229,0.224, 0.225])\n",
    "\n",
    "composer = Compose([Resize(299), ToTensor(), normalizer])\n",
    "\n",
    "train_data = ImageFolder(root='rps', transform=composer)\n",
    "val_data = ImageFolder(root='rps-test-set', transform=composer)\n",
    "\n",
    "# Builds a loader of each_set\n",
    "train_loader = DataLoader(train_data, batch_size=16, shuffle=True)\n",
    "val_loader = DataLoader(val_data, batch_size=16)"
   ]
  },
  {
   "cell_type": "code",
   "execution_count": 38,
   "id": "7649d650-bf2a-4b08-8b8d-8006f51d9362",
   "metadata": {},
   "outputs": [],
   "source": [
    "sbs_incep.set_loaders(train_loader, val_loader)\n",
    "sbs_incep.train(1)"
   ]
  },
  {
   "cell_type": "code",
   "execution_count": 39,
   "id": "f8172dea-4210-483f-8d62-f620811c993e",
   "metadata": {},
   "outputs": [
    {
     "data": {
      "text/plain": [
       "tensor([[106, 124],\n",
       "        [ 77, 124],\n",
       "        [117, 124]])"
      ]
     },
     "execution_count": 39,
     "metadata": {},
     "output_type": "execute_result"
    }
   ],
   "source": [
    "StepByStep.loader_apply(val_loader, sbs_incep.correct)"
   ]
  },
  {
   "cell_type": "code",
   "execution_count": null,
   "id": "9f788cce-1ff7-4103-a6f1-9d222abe8998",
=======
   "execution_count": null,
   "id": "f605bacc-8774-4277-ac99-39428d3f7869",
>>>>>>> e816e9b49ac4164c1196852b75646f7b2f7fb0f9
   "metadata": {},
   "outputs": [],
   "source": []
  }
 ],
 "metadata": {
  "kernelspec": {
   "display_name": "Python 3 (ipykernel)",
   "language": "python",
   "name": "python3"
  },
  "language_info": {
   "codemirror_mode": {
    "name": "ipython",
    "version": 3
   },
   "file_extension": ".py",
   "mimetype": "text/x-python",
   "name": "python",
   "nbconvert_exporter": "python",
   "pygments_lexer": "ipython3",
   "version": "3.11.7"
  }
 },
 "nbformat": 4,
 "nbformat_minor": 5
}
