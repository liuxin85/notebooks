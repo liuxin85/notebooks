{
 "cells": [
  {
   "cell_type": "code",
   "execution_count": 1,
   "id": "6b980b91-2f45-496d-91f8-b78c49f5c1eb",
   "metadata": {},
   "outputs": [],
   "source": [
    "import numpy as np\n",
    "from sklearn.linear_model import LinearRegression\n",
    "\n",
    "import torch\n",
    "import torch.optim as optim\n",
    "import torch.nn as nn\n",
    "from torch.utils.data import Dataset, TensorDataset, DataLoader\n",
    "from torch.utils.data.dataset import random_split\n",
    "from torch.utils.tensorboard import SummaryWriter\n",
    "\n",
    "import matplotlib.pyplot as plt\n",
    "%matplotlib inline\n",
    "plt.style.use('fivethirtyeight')"
   ]
  },
  {
   "cell_type": "code",
   "execution_count": 6,
   "id": "9312832a-2223-4865-9f9d-1e8de7042507",
   "metadata": {},
   "outputs": [],
   "source": [
    "%run -i data_generation/simple_linear_regression.py\n"
   ]
  },
  {
   "cell_type": "code",
   "execution_count": 8,
   "id": "c1040798-66b6-4b4d-9ed7-1200b9fedefb",
   "metadata": {},
   "outputs": [],
   "source": [
    "%run -i data_preparation/v0.py\n"
   ]
  },
  {
   "cell_type": "code",
   "execution_count": 9,
   "id": "3c538ace-6308-42c7-bcde-7aba595cfafc",
   "metadata": {},
   "outputs": [],
   "source": [
    "%run -i model_configuration/v0.py"
   ]
  },
  {
   "cell_type": "code",
   "execution_count": 10,
   "id": "6be6089c-c23a-424b-987b-d4332b540851",
   "metadata": {},
   "outputs": [],
   "source": [
    "# %load model_training/v0.py\n",
    "# Defines number of epochs\n",
    "n_epochs = 1000\n",
    "\n",
    "for epoch in range(n_epochs):\n",
    "    # Set model to TRAIN mode\n",
    "    model.train()\n",
    "    # Step 1- Computes model's predicted output - forward parss\n",
    "    yhat = model(x_train_tensor)\n",
    "    # Step 2 = Computes the loss\n",
    "    loss = loss_fn(yhat, y_train_tensor)\n",
    "    # Step 3 - Computes gradients for both \"b\" and \"w\" paramters\n",
    "    loss.backward()\n",
    "    # Step 4 - Updats parameters using gradients and the learning rate\n",
    "    optimizer.step()\n",
    "    optimizer.zero_grad()"
   ]
  },
  {
   "cell_type": "code",
   "execution_count": 11,
   "id": "408eebe4-6874-45fd-8f91-b92e01b632ea",
   "metadata": {},
   "outputs": [
    {
     "name": "stdout",
     "output_type": "stream",
     "text": [
      "OrderedDict([('0.weight', tensor([[1.9690]], device='cuda:0')), ('0.bias', tensor([1.0235], device='cuda:0'))])\n"
     ]
    }
   ],
   "source": [
    "print(model.state_dict())"
   ]
  },
  {
   "cell_type": "code",
   "execution_count": null,
   "id": "5a86e1e9-1579-4f50-bde6-96c2586a9a73",
   "metadata": {},
   "outputs": [],
   "source": [
    "def make_train_step_fn(model, loss_fn, optimizer):\n",
    "    # Builds function that performs a step in the train loop\n",
    "    def perform_train_step_fn(x, y):\n",
    "        # Set model to TRAIN mode\n",
    "        model.train()\n",
    "        yhat = model(x)\n",
    "        loss = loss_fn(yhat, y)\n",
    "        loss.backward()\n",
    "        optimizer.step()\n",
    "        optimizer.zero_grad()\n",
    "        return loss.item()\n",
    "    return perform_train_step_fn"
   ]
  }
 ],
 "metadata": {
  "kernelspec": {
   "display_name": "Python 3 (ipykernel)",
   "language": "python",
   "name": "python3"
  },
  "language_info": {
   "codemirror_mode": {
    "name": "ipython",
    "version": 3
   },
   "file_extension": ".py",
   "mimetype": "text/x-python",
   "name": "python",
   "nbconvert_exporter": "python",
   "pygments_lexer": "ipython3",
   "version": "3.11.8"
  }
 },
 "nbformat": 4,
 "nbformat_minor": 5
}
