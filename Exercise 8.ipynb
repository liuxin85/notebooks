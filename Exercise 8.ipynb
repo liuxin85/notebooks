{
 "cells": [
  {
   "cell_type": "code",
   "execution_count": 1,
   "id": "b4adcd62-e3a4-4400-ba80-bde124a3ca17",
   "metadata": {},
   "outputs": [],
   "source": [
    "import numpy as np\n",
    "\n",
    "import torch\n",
    "import torch.optim as optim\n",
    "import torch.nn as nn\n",
    "import torch.nn.functional as F\n",
    "from torch.utils.data import DataLoader, Dataset, random_split, TensorDataset\n",
    "from torch.nn.utils import rnn as rnn_utils\n",
    "\n",
    "from data_generation.square_sequences import generate_sequences\n",
    "from stepbystep.v4 import StepByStep"
   ]
  },
  {
   "cell_type": "markdown",
   "id": "55c27731-00d3-4205-b24e-b5706d7dfb57",
   "metadata": {},
   "source": [
    "Sequence problems: an ordered sequence of data points shares a single lable - emphasis on being ordered"
   ]
  },
  {
   "cell_type": "code",
   "execution_count": 2,
   "id": "b25edbd8-96c5-4865-acab-82eede203f0b",
   "metadata": {},
   "outputs": [],
   "source": [
    "points, directions = generate_sequences(n=128, seed=13)"
   ]
  },
  {
   "cell_type": "markdown",
   "id": "01988cdc-2467-4640-8ee7-a28ba947c025",
   "metadata": {},
   "source": [
    "Recurrent neural network are all about producting a hidden state that best represents a sequence"
   ]
  },
  {
   "cell_type": "code",
   "execution_count": 3,
   "id": "c49acb97-7d6f-405f-b68c-3330b24f3f41",
   "metadata": {},
   "outputs": [
    {
     "data": {
      "text/plain": [
       "tensor([0., 0.])"
      ]
     },
     "execution_count": 3,
     "metadata": {},
     "output_type": "execute_result"
    }
   ],
   "source": [
    "hidden_state = torch.zeros(2)\n",
    "hidden_state"
   ]
  },
  {
   "cell_type": "code",
   "execution_count": 4,
   "id": "07caaddb-7cb3-4525-8c98-9c0f8957eee9",
   "metadata": {},
   "outputs": [
    {
     "data": {
      "text/plain": [
       "OrderedDict([('weight_ih',\n",
       "              tensor([[ 0.6627, -0.4245],\n",
       "                      [ 0.5373,  0.2294]])),\n",
       "             ('weight_hh',\n",
       "              tensor([[-0.4015, -0.5385],\n",
       "                      [-0.1956, -0.6835]])),\n",
       "             ('bias_ih', tensor([0.4954, 0.6533])),\n",
       "             ('bias_hh', tensor([-0.3565, -0.2904]))])"
      ]
     },
     "execution_count": 4,
     "metadata": {},
     "output_type": "execute_result"
    }
   ],
   "source": [
    "n_features = 2\n",
    "hidden_dim = 2\n",
    "\n",
    "torch.manual_seed(19)\n",
    "rnn_cell = nn.RNNCell(input_size=n_features, hidden_size=hidden_dim)\n",
    "rnn_state = rnn_cell.state_dict()\n",
    "rnn_state"
   ]
  },
  {
   "cell_type": "code",
   "execution_count": 6,
   "id": "47d79569-2fa6-494d-a450-4218313e7185",
   "metadata": {},
   "outputs": [],
   "source": [
    "linear_input = nn.Linear(n_features, hidden_dim)\n",
    "linear_hidden = nn.Linear(hidden_dim, hidden_dim)\n",
    "\n",
    "with torch.no_grad():\n",
    "    linear_input.weight = nn.Parameter(rnn_state['weight_ih'])\n",
    "    linear_input.bias = nn.Parameter(rnn_state['bias_ih'])\n",
    "    linear_hidden.weight = nn.Parameter(rnn_state['weight_hh'])\n",
    "    linear_hidden.bias = nn.Parameter(rnn_state['bias_hh'])"
   ]
  },
  {
   "cell_type": "code",
   "execution_count": 7,
   "id": "edecf97f-e336-400d-a00d-8bb9114c66c6",
   "metadata": {},
   "outputs": [
    {
     "data": {
      "text/plain": [
       "tensor([[0., 0.]])"
      ]
     },
     "execution_count": 7,
     "metadata": {},
     "output_type": "execute_result"
    }
   ],
   "source": [
    "initial_hidden = torch.zeros(1, hidden_dim)\n",
    "initial_hidden"
   ]
  },
  {
   "cell_type": "code",
   "execution_count": 8,
   "id": "b7982c9d-df13-4c57-805b-18b54635867b",
   "metadata": {},
   "outputs": [
    {
     "data": {
      "text/plain": [
       "tensor([[-0.3565, -0.2904]], grad_fn=<AddmmBackward0>)"
      ]
     },
     "execution_count": 8,
     "metadata": {},
     "output_type": "execute_result"
    }
   ],
   "source": [
    "th = linear_hidden(initial_hidden)\n",
    "th"
   ]
  },
  {
   "cell_type": "code",
   "execution_count": 10,
   "id": "245e1618-0a9e-4edf-b5e4-3dfd56a8a48e",
   "metadata": {},
   "outputs": [
    {
     "data": {
      "text/plain": [
       "tensor([[ 1.0349,  0.9661],\n",
       "        [ 0.8055, -0.9169],\n",
       "        [-0.8251, -0.9499],\n",
       "        [-0.8670,  0.9342]])"
      ]
     },
     "execution_count": 10,
     "metadata": {},
     "output_type": "execute_result"
    }
   ],
   "source": [
    "X = torch.as_tensor(points[0]).float()\n",
    "X"
   ]
  },
  {
   "cell_type": "code",
   "execution_count": 11,
   "id": "61fa2581-2d94-497b-b6c1-75a5c0d032ee",
   "metadata": {},
   "outputs": [
    {
     "data": {
      "text/plain": [
       "tensor([[0.7712, 1.4310]], grad_fn=<AddmmBackward0>)"
      ]
     },
     "execution_count": 11,
     "metadata": {},
     "output_type": "execute_result"
    }
   ],
   "source": [
    "tx = linear_input(X[:1])\n",
    "tx"
   ]
  },
  {
   "cell_type": "code",
   "execution_count": 12,
   "id": "b5f6b77c-68d9-4fc3-9189-1d3dd9e7dc1f",
   "metadata": {},
   "outputs": [
    {
     "data": {
      "text/plain": [
       "tensor([[0.4146, 1.1405]], grad_fn=<AddBackward0>)"
      ]
     },
     "execution_count": 12,
     "metadata": {},
     "output_type": "execute_result"
    }
   ],
   "source": [
    "adding = th + tx\n",
    "adding"
   ]
  },
  {
   "cell_type": "code",
   "execution_count": 13,
   "id": "64773179-f7ba-4b29-9384-4d16117f4845",
   "metadata": {},
   "outputs": [
    {
     "data": {
      "text/plain": [
       "tensor([[0.3924, 0.8146]], grad_fn=<TanhBackward0>)"
      ]
     },
     "execution_count": 13,
     "metadata": {},
     "output_type": "execute_result"
    }
   ],
   "source": [
    "torch.tanh(adding)"
   ]
  },
  {
   "cell_type": "code",
   "execution_count": 14,
   "id": "084f6354-9199-44e2-a12b-2dbb3ace7e6f",
   "metadata": {},
   "outputs": [
    {
     "data": {
      "text/plain": [
       "tensor([[0.3924, 0.8146]], grad_fn=<TanhBackward0>)"
      ]
     },
     "execution_count": 14,
     "metadata": {},
     "output_type": "execute_result"
    }
   ],
   "source": [
    "rnn_cell(X[0:1])"
   ]
  },
  {
   "cell_type": "code",
   "execution_count": 15,
   "id": "03cee9c2-2479-46e1-9dd9-b84d829c8b35",
   "metadata": {},
   "outputs": [
    {
     "name": "stdout",
     "output_type": "stream",
     "text": [
      "tensor([[0.3924, 0.8146]], grad_fn=<TanhBackward0>)\n",
      "tensor([[ 0.4347, -0.0481]], grad_fn=<TanhBackward0>)\n",
      "tensor([[-0.1521, -0.3367]], grad_fn=<TanhBackward0>)\n",
      "tensor([[-0.5297,  0.3551]], grad_fn=<TanhBackward0>)\n"
     ]
    }
   ],
   "source": [
    "hidden = torch.zeros(1, hidden_dim)\n",
    "for i in range(X.shape[0]):\n",
    "    out = rnn_cell(X[i: i+1], hidden)\n",
    "    print(out)\n",
    "    hidden = out"
   ]
  },
  {
   "cell_type": "code",
   "execution_count": 16,
   "id": "daf1f8f4-bd0e-4ba3-9c82-2d9ca5df2384",
   "metadata": {},
   "outputs": [
    {
     "data": {
      "text/plain": [
       "OrderedDict([('weight_ih_l0',\n",
       "              tensor([[ 0.6627, -0.4245],\n",
       "                      [ 0.5373,  0.2294]])),\n",
       "             ('weight_hh_l0',\n",
       "              tensor([[-0.4015, -0.5385],\n",
       "                      [-0.1956, -0.6835]])),\n",
       "             ('bias_ih_l0', tensor([0.4954, 0.6533])),\n",
       "             ('bias_hh_l0', tensor([-0.3565, -0.2904]))])"
      ]
     },
     "execution_count": 16,
     "metadata": {},
     "output_type": "execute_result"
    }
   ],
   "source": [
    "n_features = 2\n",
    "hidden_dim = 2\n",
    "\n",
    "torch.manual_seed(19)\n",
    "rnn = nn.RNN(input_size=n_features, hidden_size=hidden_dim)\n",
    "rnn.state_dict()"
   ]
  },
  {
   "cell_type": "code",
   "execution_count": 19,
   "id": "49d8b9de-e9d4-4fb0-a446-f2d0ad3ff196",
   "metadata": {},
   "outputs": [
    {
     "data": {
      "text/plain": [
       "torch.Size([3, 4, 2])"
      ]
     },
     "execution_count": 19,
     "metadata": {},
     "output_type": "execute_result"
    }
   ],
   "source": [
    "batch = torch.as_tensor(points[:3]).float()\n",
    "batch.shape"
   ]
  },
  {
   "cell_type": "code",
   "execution_count": 20,
   "id": "0e9798bc-5bae-44f9-bd92-091d0a1d1de3",
   "metadata": {},
   "outputs": [
    {
     "data": {
      "text/plain": [
       "torch.Size([4, 3, 2])"
      ]
     },
     "execution_count": 20,
     "metadata": {},
     "output_type": "execute_result"
    }
   ],
   "source": [
    "permuted_batch = batch.permute(1,0,2)\n",
    "permuted_batch.shape"
   ]
  },
  {
   "cell_type": "code",
   "execution_count": 21,
   "id": "1e6cd795-27f4-4c25-810f-49c6de06e9f0",
   "metadata": {},
   "outputs": [
    {
     "data": {
      "text/plain": [
       "(torch.Size([4, 3, 2]), torch.Size([1, 3, 2]))"
      ]
     },
     "execution_count": 21,
     "metadata": {},
     "output_type": "execute_result"
    }
   ],
   "source": [
    "torch.manual_seed(19)\n",
    "rnn = nn.RNN(input_size=n_features, hidden_size=hidden_dim)\n",
    "out, final_hidden = rnn(permuted_batch)\n",
    "out.shape, final_hidden.shape"
   ]
  },
  {
   "cell_type": "code",
   "execution_count": 23,
   "id": "9623f33e-6afd-4d7a-8156-27ddd4ceeb9b",
   "metadata": {},
   "outputs": [
    {
     "data": {
      "text/plain": [
       "tensor(True)"
      ]
     },
     "execution_count": 23,
     "metadata": {},
     "output_type": "execute_result"
    }
   ],
   "source": [
    "(out[-1] == final_hidden).all()"
   ]
  },
  {
   "cell_type": "code",
   "execution_count": 25,
   "id": "de530bc2-1676-4220-aac7-4770d740f1c8",
   "metadata": {},
   "outputs": [
    {
     "data": {
      "text/plain": [
       "torch.Size([3, 1, 2])"
      ]
     },
     "execution_count": 25,
     "metadata": {},
     "output_type": "execute_result"
    }
   ],
   "source": [
    "batch_hidden = final_hidden.permute(1,0,2)\n",
    "batch_hidden.shape"
   ]
  },
  {
   "cell_type": "code",
   "execution_count": 26,
   "id": "158d304e-9721-457d-8f65-b1a93e8631ef",
   "metadata": {},
   "outputs": [
    {
     "data": {
      "text/plain": [
       "(torch.Size([3, 4, 2]), torch.Size([1, 3, 2]))"
      ]
     },
     "execution_count": 26,
     "metadata": {},
     "output_type": "execute_result"
    }
   ],
   "source": [
    "torch.manual_seed(19)\n",
    "rnn_batch_first = nn.RNN(input_size=n_features, hidden_size=hidden_dim, batch_first=True)\n",
    "out, final_hidden = rnn_batch_first(batch)\n",
    "out.shape, final_hidden.shape"
   ]
  },
  {
   "cell_type": "code",
   "execution_count": 27,
   "id": "7c357e0b-a7aa-41cc-8eed-d890c0a2c020",
   "metadata": {},
   "outputs": [
    {
     "data": {
      "text/plain": [
       "OrderedDict([('weight_ih_l0',\n",
       "              tensor([[ 0.6627, -0.4245],\n",
       "                      [ 0.5373,  0.2294]])),\n",
       "             ('weight_hh_l0',\n",
       "              tensor([[-0.4015, -0.5385],\n",
       "                      [-0.1956, -0.6835]])),\n",
       "             ('bias_ih_l0', tensor([0.4954, 0.6533])),\n",
       "             ('bias_hh_l0', tensor([-0.3565, -0.2904])),\n",
       "             ('weight_ih_l1',\n",
       "              tensor([[-0.6701, -0.5811],\n",
       "                      [-0.0170, -0.5856]])),\n",
       "             ('weight_hh_l1',\n",
       "              tensor([[ 0.1159, -0.6978],\n",
       "                      [ 0.3241, -0.0983]])),\n",
       "             ('bias_ih_l1', tensor([-0.3163, -0.2153])),\n",
       "             ('bias_hh_l1', tensor([ 0.0722, -0.3242]))])"
      ]
     },
     "execution_count": 27,
     "metadata": {},
     "output_type": "execute_result"
    }
   ],
   "source": [
    "torch.manual_seed(19)\n",
    "rnn_stacked = nn.RNN(input_size=2, hidden_size=2, num_layers=2, batch_first=True)\n",
    "state = rnn_stacked.state_dict()\n",
    "state"
   ]
  },
  {
   "cell_type": "code",
   "execution_count": 30,
   "id": "c4d26870-995e-40df-8563-eb934caa32e5",
   "metadata": {},
   "outputs": [
    {
     "data": {
      "text/plain": [
       "OrderedDict([('weight_ih_l0',\n",
       "              tensor([[ 0.6627, -0.4245],\n",
       "                      [ 0.5373,  0.2294]])),\n",
       "             ('weight_hh_l0',\n",
       "              tensor([[-0.4015, -0.5385],\n",
       "                      [-0.1956, -0.6835]])),\n",
       "             ('bias_ih_l0', tensor([0.4954, 0.6533])),\n",
       "             ('bias_hh_l0', tensor([-0.3565, -0.2904])),\n",
       "             ('weight_ih_l0_reverse',\n",
       "              tensor([[-0.6701, -0.5811],\n",
       "                      [-0.0170, -0.5856]])),\n",
       "             ('weight_hh_l0_reverse',\n",
       "              tensor([[ 0.1159, -0.6978],\n",
       "                      [ 0.3241, -0.0983]])),\n",
       "             ('bias_ih_l0_reverse', tensor([-0.3163, -0.2153])),\n",
       "             ('bias_hh_l0_reverse', tensor([ 0.0722, -0.3242]))])"
      ]
     },
     "execution_count": 30,
     "metadata": {},
     "output_type": "execute_result"
    }
   ],
   "source": [
    "torch.manual_seed(19)\n",
    "rnn_bidirect = nn.RNN(input_size=2, hidden_size=2, bidirectional=True, batch_first=True)\n",
    "state = rnn_bidirect.state_dict()\n",
    "state"
   ]
  },
  {
   "cell_type": "code",
   "execution_count": 31,
   "id": "35555f62-b10c-4023-b25c-b81094ad25fa",
   "metadata": {},
   "outputs": [],
   "source": [
    "test_points, test_directions = generate_sequences(seed=19)"
   ]
  },
  {
   "cell_type": "code",
   "execution_count": 32,
   "id": "e4063427-41db-4e57-83d7-007d1a0159e4",
   "metadata": {},
   "outputs": [],
   "source": [
    "train_data = TensorDataset(torch.as_tensor(points).float(), torch.as_tensor(directions).view(-1, 1).float())\n",
    "test_data = TensorDataset(torch.as_tensor(test_points).float(), torch.as_tensor(test_directions).view(-1,1).float())\n",
    "\n",
    "train_loader = DataLoader(train_data, batch_size=16, shuffle=True)\n",
    "test_loader = DataLoader(test_data, batch_size=16)"
   ]
  },
  {
   "cell_type": "code",
   "execution_count": 33,
   "id": "7dd817fa-7164-4818-bf9e-3cd08e437dea",
   "metadata": {},
   "outputs": [],
   "source": [
    "class SquareModel(nn.Module):\n",
    "    def __init__(self, n_features, hidden_dim, n_outputs):\n",
    "        super(SquareModel, self).__init__()\n",
    "        self.hidden_dim = hidden_dim\n",
    "        self.n_features = n_features\n",
    "        self.n_outputs = n_outputs\n",
    "        self.hidden = None\n",
    "        # Simple RNN\n",
    "        self.basic_rnn = nn.RNN(self.n_features, self.hidden_dim, batch_first=True)\n",
    "        # Classifier to produce as many logits as outputs\n",
    "        self.clasifier = nn.Linear(self.hidden_dim, self.n_outputs)\n",
    "\n",
    "    def forward(self, X):\n",
    "        # X is batch first (N, L, F)\n",
    "        # output is (N, L, H)\n",
    "        # final hidden state is (1, N, H)\n",
    "        batch_first_output, self.hidden = self.basic_rnn(X)\n",
    "\n",
    "        # only last item in sequence (N, 1, H)\n",
    "        last_output = batch_first_output[:, -1]\n",
    "        # classifier will output (N, 1, n_outputs)\n",
    "        out = self.clasifier(last_output)\n",
    "\n",
    "        # final output is (N, n_outputs)\n",
    "        return out.view(-1, self.n_outputs)"
   ]
  },
  {
   "cell_type": "code",
   "execution_count": 34,
   "id": "58d7032a-d06c-4696-b827-52ac824af85d",
   "metadata": {},
   "outputs": [],
   "source": [
    "torch.manual_seed(21)\n",
    "model = SquareModel(n_features=2, hidden_dim=2, n_outputs=1)\n",
    "loss = nn.BCEWithLogitsLoss()\n",
    "optimizer = optim.Adam(model.parameters(),lr=0.01)"
   ]
  },
  {
   "cell_type": "code",
   "execution_count": 35,
   "id": "edd1f9d6-e277-4e1e-a18f-50b050fc8a06",
   "metadata": {},
   "outputs": [],
   "source": [
    "sbs_rnn = StepByStep(model, loss, optimizer)\n",
    "sbs_rnn.set_loaders(train_loader, test_loader)\n",
    "sbs_rnn.train(100)"
   ]
  },
  {
   "cell_type": "code",
   "execution_count": 36,
   "id": "f9fc2dc5-33ed-41d0-b0e2-79f58e2afca9",
   "metadata": {},
   "outputs": [
    {
     "data": {
      "image/png": "[encoded data removed]",
      "text/plain": [
       "<Figure size 1000x400 with 1 Axes>"
      ]
     },
     "metadata": {},
     "output_type": "display_data"
    }
   ],
   "source": [
    "fig = sbs_rnn.plot_losses()"
   ]
  },
  {
   "cell_type": "code",
   "execution_count": 37,
   "id": "91c85de6-a292-4dc8-9ad1-21afc264c5b3",
   "metadata": {},
   "outputs": [
    {
     "data": {
      "text/plain": [
       "tensor([[50, 53],\n",
       "        [75, 75]])"
      ]
     },
     "execution_count": 37,
     "metadata": {},
     "output_type": "execute_result"
    }
   ],
   "source": [
    "StepByStep.loader_apply(test_loader, sbs_rnn.correct)"
   ]
  },
  {
   "cell_type": "code",
   "execution_count": 38,
   "id": "8d5fb32b-30f9-4fd8-8487-d13c75550465",
   "metadata": {},
   "outputs": [
    {
     "data": {
      "text/plain": [
       "OrderedDict([('weight_ih',\n",
       "              tensor([[-0.0930,  0.0497],\n",
       "                      [ 0.4670, -0.5319],\n",
       "                      [-0.6656,  0.0699],\n",
       "                      [-0.1662,  0.0654],\n",
       "                      [-0.0449, -0.6828],\n",
       "                      [-0.6769, -0.1889]])),\n",
       "             ('weight_hh',\n",
       "              tensor([[-0.4167, -0.4352],\n",
       "                      [-0.2060, -0.3989],\n",
       "                      [-0.7070, -0.5083],\n",
       "                      [ 0.1418,  0.0930],\n",
       "                      [-0.5729, -0.5700],\n",
       "                      [-0.1818, -0.6691]])),\n",
       "             ('bias_ih',\n",
       "              tensor([-0.4316,  0.4019,  0.1222, -0.4647, -0.5578,  0.4493])),\n",
       "             ('bias_hh',\n",
       "              tensor([-0.6800,  0.4422, -0.3559, -0.0279,  0.6553,  0.2918]))])"
      ]
     },
     "execution_count": 38,
     "metadata": {},
     "output_type": "execute_result"
    }
   ],
   "source": [
    "n_features = 2\n",
    "hidden_dim = 2\n",
    "\n",
    "torch.manual_seed(17)\n",
    "gru_cell = nn.GRUCell(input_size=n_features, hidden_size=hidden_dim)\n",
    "gru_state = gru_cell.state_dict()\n",
    "gru_state"
   ]
  },
  {
   "cell_type": "code",
   "execution_count": 40,
   "id": "658ceb0b-91cc-4319-8ee9-05ee2b727911",
   "metadata": {},
   "outputs": [],
   "source": [
    "Wx, bx = gru_state['weight_ih'], gru_state['bias_ih']\n",
    "Wh, bh = gru_state['weight_hh'], gru_state['bias_hh']"
   ]
  },
  {
   "cell_type": "code",
   "execution_count": 41,
   "id": "da474cf1-e2ab-4bc5-a64d-35c25bb8e734",
   "metadata": {},
   "outputs": [
    {
     "data": {
      "text/plain": [
       "(tensor([[-0.0930,  0.0497],\n",
       "         [ 0.4670, -0.5319]]),\n",
       " tensor([-0.4316,  0.4019]))"
      ]
     },
     "execution_count": 41,
     "metadata": {},
     "output_type": "execute_result"
    }
   ],
   "source": [
    "Wxr, Wxz, Wxn = Wx.split(hidden_dim, dim=0)\n",
    "bxr, bxz, bxn = bx.split(hidden_dim, dim=0)\n",
    "\n",
    "Whr, Whz, Whn = Wh.split(hidden_dim, dim=0)\n",
    "bhr, bhz, bhn = bh.split(hidden_dim, dim=0)\n",
    "\n",
    "Wxr, bxr"
   ]
  },
  {
   "cell_type": "code",
   "execution_count": 43,
   "id": "db4657a8-7d01-47ab-8794-8f434274668c",
   "metadata": {},
   "outputs": [],
   "source": [
    "def linear_layers(Wx, bx, Wh, bh):\n",
    "    hidden_dim, n_features = Wx.size()\n",
    "    lin_input = nn.Linear(n_features, hidden_dim)\n",
    "    lin_input.load_state_dict({'weight': Wx, 'bias': bx})\n",
    "    lin_hidden = nn.Linear(hidden_dim, hidden_dim)\n",
    "    lin_hidden.load_state_dict({'weight': Wh, 'bias': bh})\n",
    "    return lin_hidden, lin_input\n",
    "# reset gate -red\n",
    "r_hidden, r_input = linear_layers(Wxr, bxr, Whr, bhr)\n",
    "# update gate - blue\n",
    "z_hidden, z_input = linear_layers(Wxz, bxz, Whz, bhz)\n",
    "# candidate state - black\n",
    "n_hidden, n_input = linear_layers(Wxn, bxn, Whn, bhn )"
   ]
  },
  {
   "cell_type": "code",
   "execution_count": 46,
   "id": "b11d5483-d653-4f23-b199-236ca79f6315",
   "metadata": {},
   "outputs": [],
   "source": [
    "class SquareModelGRU(nn.Module):\n",
    "    def __init__(self, n_features, hidden_dim, n_outputs):\n",
    "        super(SquareModelGRU, self).__init__()\n",
    "        self.hidden_dim = hidden_dim\n",
    "        self.n_features = n_features\n",
    "        self.n_outputs = n_outputs\n",
    "        self.hidden = None\n",
    "        # Simple RNN\n",
    "        self.basic_rnn = nn.GRU(self.n_features, self.hidden_dim, batch_first=True)\n",
    "        # Classifier to produce as many logits as outputs\n",
    "        self.clasifier = nn.Linear(self.hidden_dim, self.n_outputs)\n",
    "\n",
    "    def forward(self, X):\n",
    "        # X is batch first (N, L, F)\n",
    "        # output is (N, L, H)\n",
    "        # final hidden state is (1, N, H)\n",
    "        batch_first_output, self.hidden = self.basic_rnn(X)\n",
    "\n",
    "        # only last item in sequence (N, 1, H)\n",
    "        last_output = batch_first_output[:, -1]\n",
    "        # classifier will output (N, 1, n_outputs)\n",
    "        out = self.clasifier(last_output)\n",
    "\n",
    "        # final output is (N, n_outputs)\n",
    "        return out.view(-1, self.n_outputs)"
   ]
  },
  {
   "cell_type": "code",
   "execution_count": 48,
   "id": "d27e9352-db9d-4eae-a8de-c4c588c83558",
   "metadata": {},
   "outputs": [],
   "source": [
    "torch.manual_seed(21)\n",
    "model = SquareModelGRU(n_features=2, hidden_dim=2, n_outputs=1)\n",
    "loss = nn.BCEWithLogitsLoss()\n",
    "optimizer = optim.Adam(model.parameters(), lr=0.01)"
   ]
  },
  {
   "cell_type": "code",
   "execution_count": 49,
   "id": "bcd8b254-4880-43ee-be3d-8c4489258f41",
   "metadata": {},
   "outputs": [],
   "source": [
    "sbs_gru = StepByStep(model, loss, optimizer)\n",
    "sbs_gru.set_loaders(train_loader, test_loader)\n",
    "sbs_gru.train(100)"
   ]
  },
  {
   "cell_type": "code",
   "execution_count": 50,
   "id": "afcbb809-5aaf-425a-8c7d-7ab20f35f0d7",
   "metadata": {},
   "outputs": [
    {
     "data": {
      "image/png": "[encoded data removed]",
      "text/plain": [
       "<Figure size 1000x400 with 1 Axes>"
      ]
     },
     "metadata": {},
     "output_type": "display_data"
    }
   ],
   "source": [
    "fig = sbs_gru.plot_losses()"
   ]
  },
  {
   "cell_type": "code",
   "execution_count": 51,
   "id": "98cb88ea-13fe-4f7c-b240-8f0adb6b2044",
   "metadata": {},
   "outputs": [
    {
     "data": {
      "text/plain": [
       "tensor([[53, 53],\n",
       "        [75, 75]])"
      ]
     },
     "execution_count": 51,
     "metadata": {},
     "output_type": "execute_result"
    }
   ],
   "source": [
    "StepByStep.loader_apply(test_loader, sbs_gru.correct)"
   ]
  },
  {
   "cell_type": "code",
   "execution_count": 52,
   "id": "d15db471-1978-48c2-b67e-39b801648736",
   "metadata": {},
   "outputs": [],
   "source": [
    "class SquareModelLSTM(nn.Module):\n",
    "    def __init__(self, n_features, hidden_dim, n_outputs):\n",
    "        super(SquareModelLSTM, self).__init__()\n",
    "        self.hidden_dim = hidden_dim\n",
    "        self.n_features = n_features\n",
    "        self.n_outputs = n_outputs\n",
    "        self.hidden = None\n",
    "        self.cell = None\n",
    "        # Simple LSTM\n",
    "        self.basic_rnn = nn.LSTM(self.n_features, self.hidden_dim, batch_first=True)\n",
    "        # Classifier to produce as many logits as outputs\n",
    "        self.classifier = nn.Linear(self.hidden_dim, self.n_outputs)\n",
    "\n",
    "    def forward(self, X):\n",
    "        # X is batch first (N, L, F)\n",
    "        # output is (N, L, H)\n",
    "        # final hidden state is (1, N, H)\n",
    "        # final cell state is (1, N, H)\n",
    "        batch_first_output, (self.hidden, self.cell) = self.basic_rnn(X)\n",
    "\n",
    "        # only last item in sequence (N, 1, H)\n",
    "        last_output = batch_first_output[:, -1]\n",
    "        # classifier will output (N, 1, n_outputs)\n",
    "        out = self.classifier(last_output)\n",
    "        # final output is (N, n_outputs)\n",
    "        return out.view(-1, self.n_outputs)"
   ]
  },
  {
   "cell_type": "code",
   "execution_count": 53,
   "id": "a0595dff-1576-48fd-85d0-f86df9e5b954",
   "metadata": {},
   "outputs": [],
   "source": [
    "torch.manual_seed(21)\n",
    "model = SquareModelLSTM(n_features=2, hidden_dim=2, n_outputs=1)\n",
    "loss = nn.BCEWithLogitsLoss()\n",
    "optimizer = optim.Adam(model.parameters(), lr=0.01)"
   ]
  },
  {
   "cell_type": "code",
   "execution_count": 54,
   "id": "4316d142-5dca-4db5-ab3a-9640304db670",
   "metadata": {},
   "outputs": [],
   "source": [
    "sbs_lstm = StepByStep(model, loss, optimizer)\n",
    "sbs_lstm.set_loaders(train_loader, test_loader)\n",
    "sbs_lstm.train(100)"
   ]
  },
  {
   "cell_type": "code",
   "execution_count": 55,
   "id": "8c09e96f-722a-450b-9f21-ea0ff5426d82",
   "metadata": {},
   "outputs": [
    {
     "data": {
      "image/png": "[encoded data removed]",
      "text/plain": [
       "<Figure size 1000x400 with 1 Axes>"
      ]
     },
     "metadata": {},
     "output_type": "display_data"
    }
   ],
   "source": [
    "fig = sbs_lstm.plot_losses()"
   ]
  },
  {
   "cell_type": "code",
   "execution_count": 56,
   "id": "8044c16a-83b5-4c56-a00b-3bab00e1b8c6",
   "metadata": {},
   "outputs": [
    {
     "data": {
      "text/plain": [
       "tensor([[53, 53],\n",
       "        [75, 75]])"
      ]
     },
     "execution_count": 56,
     "metadata": {},
     "output_type": "execute_result"
    }
   ],
   "source": [
    "StepByStep.loader_apply(test_loader, sbs_lstm.correct)"
   ]
  },
  {
   "cell_type": "markdown",
   "id": "3a0ebe43-4a4a-4535-85b1-3f6a5e259b0a",
   "metadata": {},
   "source": [
    "## Variable-Length Sequences"
   ]
  },
  {
   "cell_type": "code",
   "execution_count": 57,
   "id": "545fd959-eb18-40e5-8489-c8a7956508d8",
   "metadata": {},
   "outputs": [
    {
     "data": {
      "text/plain": [
       "((4, 2), (2, 2), (3, 2))"
      ]
     },
     "execution_count": 57,
     "metadata": {},
     "output_type": "execute_result"
    }
   ],
   "source": [
    "x0 = points[0]\n",
    "x1 = points[1][2:]\n",
    "x2 = points[2][1:]\n",
    "\n",
    "x0.shape, x1.shape, x2.shape"
   ]
  },
  {
   "cell_type": "code",
   "execution_count": 59,
   "id": "c647ea7d-655f-4dfb-93dd-c53815c3fc64",
   "metadata": {},
   "outputs": [],
   "source": [
    "all_seqs = [x0, x1, x2]"
   ]
  },
  {
   "cell_type": "code",
   "execution_count": 60,
   "id": "e95abf77-520f-446a-93b2-e7e7cd89e614",
   "metadata": {},
   "outputs": [
    {
     "data": {
      "text/plain": [
       "tensor([[[ 1.0349,  0.9661],\n",
       "         [ 0.8055, -0.9169],\n",
       "         [-0.8251, -0.9499],\n",
       "         [-0.8670,  0.9342]],\n",
       "\n",
       "        [[-1.0911,  0.9254],\n",
       "         [-1.0771, -1.0414],\n",
       "         [ 0.0000,  0.0000],\n",
       "         [ 0.0000,  0.0000]],\n",
       "\n",
       "        [[-1.1247, -0.9683],\n",
       "         [ 0.8182, -0.9944],\n",
       "         [ 1.0081,  0.7680],\n",
       "         [ 0.0000,  0.0000]]])"
      ]
     },
     "execution_count": 60,
     "metadata": {},
     "output_type": "execute_result"
    }
   ],
   "source": [
    "seq_tensors = [torch.as_tensor(seq).float() for seq in all_seqs]\n",
    "padded = rnn_utils.pad_sequence(seq_tensors, batch_first=True)\n",
    "padded"
   ]
  },
  {
   "cell_type": "code",
   "execution_count": 61,
   "id": "3a3bbc8b-7db3-4e94-b3e8-f2b844c933c8",
   "metadata": {},
   "outputs": [],
   "source": [
    "torch.manual_seed(11)\n",
    "rnn = nn.RNN(2,2, batch_first=True)"
   ]
  },
  {
   "cell_type": "code",
   "execution_count": 62,
   "id": "ce1a07f6-0e7e-441c-bfe2-4600c5e83798",
   "metadata": {},
   "outputs": [
    {
     "data": {
      "text/plain": [
       "tensor([[[-0.6388,  0.8505],\n",
       "         [-0.4215,  0.8979],\n",
       "         [ 0.3792,  0.3432],\n",
       "         [ 0.3161, -0.1675]],\n",
       "\n",
       "        [[ 0.2911, -0.1811],\n",
       "         [ 0.3051,  0.7055],\n",
       "         [ 0.0052,  0.5819],\n",
       "         [-0.0642,  0.6012]],\n",
       "\n",
       "        [[ 0.3385,  0.5927],\n",
       "         [-0.3875,  0.9422],\n",
       "         [-0.4832,  0.6595],\n",
       "         [-0.1007,  0.5349]]], grad_fn=<TransposeBackward1>)"
      ]
     },
     "execution_count": 62,
     "metadata": {},
     "output_type": "execute_result"
    }
   ],
   "source": [
    "output_padded, hidden_padded = rnn(padded)\n",
    "output_padded"
   ]
  },
  {
   "cell_type": "code",
   "execution_count": 63,
   "id": "3deba7d4-fb1f-4157-9ff4-3747408dec73",
   "metadata": {},
   "outputs": [
    {
     "data": {
      "text/plain": [
       "tensor([[[ 0.3161, -0.1675]],\n",
       "\n",
       "        [[-0.0642,  0.6012]],\n",
       "\n",
       "        [[-0.1007,  0.5349]]], grad_fn=<PermuteBackward0>)"
      ]
     },
     "execution_count": 63,
     "metadata": {},
     "output_type": "execute_result"
    }
   ],
   "source": [
    "hidden_padded.permute(1,0,2)"
   ]
  },
  {
   "cell_type": "code",
   "execution_count": 65,
   "id": "8b21c068-2b59-4a9c-9dda-5bd3d635d63a",
   "metadata": {},
   "outputs": [
    {
     "data": {
      "text/plain": [
       "PackedSequence(data=tensor([[ 1.0349,  0.9661],\n",
       "        [-1.1247, -0.9683],\n",
       "        [-1.0911,  0.9254],\n",
       "        [ 0.8055, -0.9169],\n",
       "        [ 0.8182, -0.9944],\n",
       "        [-1.0771, -1.0414],\n",
       "        [-0.8251, -0.9499],\n",
       "        [ 1.0081,  0.7680],\n",
       "        [-0.8670,  0.9342]]), batch_sizes=tensor([3, 3, 2, 1]), sorted_indices=tensor([0, 2, 1]), unsorted_indices=tensor([0, 2, 1]))"
      ]
     },
     "execution_count": 65,
     "metadata": {},
     "output_type": "execute_result"
    }
   ],
   "source": [
    "packed = rnn_utils.pack_sequence(seq_tensors, enforce_sorted=False)\n",
    "packed"
   ]
  },
  {
   "cell_type": "code",
   "execution_count": null,
   "id": "f892ee53-35c0-48a1-b4c6-92bef9526a1c",
   "metadata": {},
   "outputs": [],
   "source": []
  }
 ],
 "metadata": {
  "kernelspec": {
   "display_name": "Python 3 (ipykernel)",
   "language": "python",
   "name": "python3"
  },
  "language_info": {
   "codemirror_mode": {
    "name": "ipython",
    "version": 3
   },
   "file_extension": ".py",
   "mimetype": "text/x-python",
   "name": "python",
   "nbconvert_exporter": "python",
   "pygments_lexer": "ipython3",
   "version": "3.11.7"
  }
 },
 "nbformat": 4,
 "nbformat_minor": 5
}
